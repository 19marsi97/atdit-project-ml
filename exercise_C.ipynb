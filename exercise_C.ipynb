{
 "cells": [
  {
   "cell_type": "markdown",
   "metadata": {},
   "source": [
    "# C K-means MNIST\n",
    "_4 points_\n",
    "\n",
    "- What is the majority class of each cluster? \n",
    "- What is the percentage of the majority class in each cluster? \n",
    "- Does each number have a cluster?\n",
    "- If not, which hasn't?\n",
    "\n",
    "Do this for 10, 100, 1000 iterations"
   ]
  },
  {
   "cell_type": "markdown",
   "metadata": {},
   "source": [
    "## Solution"
   ]
  },
  {
   "cell_type": "code",
   "execution_count": 25,
   "metadata": {},
   "outputs": [],
   "source": [
    "import tensorflow as tf\n",
    "import numpy as np\n",
    "import matplotlib.pyplot as plt\n",
    "from sklearn.cluster import KMeans\n",
    "from sklearn.metrics import f1_score\n",
    "import seaborn as sns\n",
    "import pandas as pd"
   ]
  },
  {
   "cell_type": "code",
   "execution_count": 5,
   "metadata": {},
   "outputs": [],
   "source": [
    "(x_train, y_train), (x_test, y_test) = tf.keras.datasets.mnist.load_data() # loading dataset\n",
    "# reshape dataset to reduce to 2D array\n",
    "x_train_flat = x_train.reshape([x_train.shape[0],\n",
    "                              x_train.shape[1] * x_train.shape[2]])\n",
    "x_test_flat = x_test.reshape([x_test.shape[0],\n",
    "                           x_test.shape[1] * x_test.shape[2]])"
   ]
  },
  {
   "cell_type": "code",
   "execution_count": 27,
   "metadata": {},
   "outputs": [],
   "source": [
    "# create KMeans model\n",
    "kmeans_10_iter = KMeans(n_clusters=10, max_iter=10, n_jobs=-1).fit(x_train_flat) # n_jobs = -1 to use all cores for calculation\n",
    "kmeans_100_iter = KMeans(n_clusters=10, max_iter=100, n_jobs=-1).fit(x_train_flat)\n",
    "kmeans_1000_iter = KMeans(n_clusters=10, max_iter=1000, n_jobs=-1).fit(x_train_flat)"
   ]
  },
  {
   "cell_type": "code",
   "execution_count": 28,
   "metadata": {},
   "outputs": [
    {
     "name": "stdout",
     "output_type": "stream",
     "text": [
      "9\n",
      "63\n",
      "41\n"
     ]
    }
   ],
   "source": [
    "\"\"\"\n",
    "Due to the fact that KMeans has only a parameter to indicate\n",
    "the maximum number of iterations, it will not always use that capacity.\n",
    "Here to visualize how many iterations were actually used!\n",
    "\"\"\"\n",
    "print(kmeans_10_iter.n_iter_)\n",
    "print(kmeans_100_iter.n_iter_)\n",
    "print(kmeans_1000_iter.n_iter_)"
   ]
  },
  {
   "cell_type": "code",
   "execution_count": 84,
   "metadata": {},
   "outputs": [],
   "source": [
    "kmeans_10_scores = []\n",
    "kmeans_100_scores = []\n",
    "kmeans_1000_scores = []\n",
    "for i in range(10):\n",
    "    kmeans_10_scores.append([])\n",
    "    kmeans_100_scores.append([])\n",
    "    kmeans_1000_scores.append([])\n",
    "#print(kmeans_10_scores)\n",
    "\n",
    "#kmeans_10\n",
    "count = 0\n",
    "for value in kmeans_10_iter.labels_:\n",
    "    kmeans_10_scores[value].append(y_train[count])\n",
    "    count += 1\n",
    "\n",
    "#kmeans_100\n",
    "count = 0\n",
    "for value in kmeans_100_iter.labels_:\n",
    "    kmeans_100_scores[value].append(y_train[count])\n",
    "    count += 1\n",
    "\n",
    "#kmeans_1000\n",
    "count = 0\n",
    "for value in kmeans_1000_iter.labels_:\n",
    "    kmeans_1000_scores[value].append(y_train[count])\n",
    "    count += 1"
   ]
  },
  {
   "cell_type": "code",
   "execution_count": 83,
   "metadata": {},
   "outputs": [],
   "source": [
    "df0 = pd.DataFrame(kmeans_10_scores)\n",
    "#df0"
   ]
  },
  {
   "cell_type": "code",
   "execution_count": 89,
   "metadata": {},
   "outputs": [],
   "source": [
    "kmeans_10_clusters = []\n",
    "kmeans_100_clusters = []\n",
    "kmeans_1000_clusters = []\n",
    "for i in range(10):\n",
    "    # 10 iterations\n",
    "    local_array = np.bincount(kmeans_10_scores[:][i])\n",
    "    kmeans_10_clusters.append(local_array)\n",
    "    # 100 iterations\n",
    "    local_array = np.bincount(kmeans_100_scores[:][i])\n",
    "    kmeans_100_clusters.append(local_array)\n",
    "    #1000 iterations\n",
    "    local_array = np.bincount(kmeans_1000_scores[:][i])\n",
    "    kmeans_1000_clusters.append(local_array)\n",
    "#print(kmeans_10_clusters)"
   ]
  },
  {
   "cell_type": "code",
   "execution_count": 105,
   "metadata": {},
   "outputs": [
    {
     "name": "stdout",
     "output_type": "stream",
     "text": [
      "Kmeans with 10 iterations\n",
      "\n",
      "Cluster: 0 => majority label: 8\n",
      "Cluster: 1 => majority label: 4\n",
      "Cluster: 2 => majority label: 2\n",
      "Cluster: 3 => majority label: 3\n",
      "Cluster: 4 => majority label: 6\n",
      "Cluster: 5 => majority label: 0\n",
      "Cluster: 6 => majority label: 1\n",
      "Cluster: 7 => majority label: 7\n",
      "Cluster: 8 => majority label: 1\n",
      "Cluster: 9 => majority label: 0\n",
      "The following numbers have no own cluster: [5 9]\n",
      "[0.528322440087146, 0.35785423268447264, 0.8914613423959218, 0.5190463850738534, 0.8557491289198607, 0.8032115869017632, 0.569113263785395, 0.4270774766670415, 0.5975049244911359, 0.9046993098915543]\n"
     ]
    }
   ],
   "source": [
    "\"\"\"calculating majority in each cluster and percentage\n",
    "\"\"\"\n",
    "print(\"Kmeans with 10 iterations\\n\")\n",
    "count = 0\n",
    "labels = np.arange(10)\n",
    "majority_labels_10 = []\n",
    "percentages_maj_cluster_10 = []\n",
    "for array in kmeans_10_clusters:\n",
    "    #print(max(array))\n",
    "    maximum = np.where(array == max(array))[0]\n",
    "    if len(maximum) == 1:\n",
    "        print(\"Cluster: {} => majority label: {}\".format(count, maximum[0]))    \n",
    "        majority_labels_10.append(maximum[0])\n",
    "        percentages_maj_cluster_10.append(max(array) / sum(array))\n",
    "    else:\n",
    "        majority_labels_10.append(-1)\n",
    "        percentages_maj_cluster_10.append(-1)\n",
    "    count += 1\n",
    "differences_10_iter = np.where(np.isin(labels, majority_labels_10) == False)[0]\n",
    "print(\"The following numbers have no own cluster: {}\".format(differences_10_iter))\n",
    "print(percentages_maj_cluster_10)"
   ]
  },
  {
   "cell_type": "code",
   "execution_count": 106,
   "metadata": {},
   "outputs": [
    {
     "name": "stdout",
     "output_type": "stream",
     "text": [
      "Kmeans with 100 iterations\n",
      "\n",
      "Cluster: 0 => majority label: 0\n",
      "Cluster: 1 => majority label: 3\n",
      "Cluster: 2 => majority label: 4\n",
      "Cluster: 3 => majority label: 1\n",
      "Cluster: 4 => majority label: 1\n",
      "Cluster: 5 => majority label: 6\n",
      "Cluster: 6 => majority label: 2\n",
      "Cluster: 7 => majority label: 0\n",
      "Cluster: 8 => majority label: 8\n",
      "Cluster: 9 => majority label: 7\n",
      "The following numbers have no own cluster: [5 9]\n",
      "[0.787267570122912, 0.526562919237993, 0.3569509738079248, 0.6230305062018102, 0.5323676680972819, 0.8589160839160839, 0.8960068332265642, 0.9066537467700259, 0.5295740116457248, 0.42603884372177053]\n"
     ]
    }
   ],
   "source": [
    "\"\"\"calculating majority in each cluster and percentage\n",
    "\"\"\"\n",
    "print(\"Kmeans with 100 iterations\\n\")\n",
    "count = 0\n",
    "labels = np.arange(10)\n",
    "majority_labels_100 = []\n",
    "percentages_maj_cluster_100 = []\n",
    "for array in kmeans_100_clusters:\n",
    "    #print(max(array))\n",
    "    maximum = np.where(array == max(array))[0]\n",
    "    if len(maximum) == 1:\n",
    "        print(\"Cluster: {} => majority label: {}\".format(count, maximum[0]))    \n",
    "        majority_labels_100.append(maximum[0])\n",
    "        percentages_maj_cluster_100.append(max(array) / sum(array))\n",
    "    else:\n",
    "        majority_labels_100.append(-1)\n",
    "        percentages_maj_cluster_100.append(-1)\n",
    "    count += 1\n",
    "differences_100_iter = np.where(np.isin(labels, majority_labels_100) == False)[0]\n",
    "print(\"The following numbers have no own cluster: {}\".format(differences_100_iter))\n",
    "print(percentages_maj_cluster_100)"
   ]
  },
  {
   "cell_type": "code",
   "execution_count": 107,
   "metadata": {},
   "outputs": [
    {
     "name": "stdout",
     "output_type": "stream",
     "text": [
      "Kmeans with 1000 iterations\n",
      "\n",
      "Cluster: 0 => majority label: 8\n",
      "Cluster: 1 => majority label: 1\n",
      "Cluster: 2 => majority label: 7\n",
      "Cluster: 3 => majority label: 4\n",
      "Cluster: 4 => majority label: 6\n",
      "Cluster: 5 => majority label: 0\n",
      "Cluster: 6 => majority label: 2\n",
      "Cluster: 7 => majority label: 1\n",
      "Cluster: 8 => majority label: 0\n",
      "Cluster: 9 => majority label: 3\n",
      "The following numbers have no own cluster: [5 9]\n",
      "[0.5283682520263037, 0.6253994953742641, 0.42771357353274414, 0.35735904046631545, 0.8592411260709915, 0.9048693969687198, 0.8971122994652406, 0.5278368794326241, 0.7872005044136192, 0.5264004288394533]\n"
     ]
    }
   ],
   "source": [
    "\"\"\"calculating majority in each cluster and percentage\n",
    "\"\"\"\n",
    "print(\"Kmeans with 1000 iterations\\n\")\n",
    "count = 0\n",
    "labels = np.arange(10)\n",
    "majority_labels_1000 = []\n",
    "percentages_maj_cluster_1000 = []\n",
    "for array in kmeans_1000_clusters:\n",
    "    #print(max(array))\n",
    "    maximum = np.where(array == max(array))[0]\n",
    "    if len(maximum) == 1:\n",
    "        print(\"Cluster: {} => majority label: {}\".format(count, maximum[0]))    \n",
    "        majority_labels_1000.append(maximum[0])\n",
    "        percentages_maj_cluster_1000.append(max(array) / sum(array))\n",
    "    else:\n",
    "        majority_labels_1000.append(-1)\n",
    "        percentages_maj_cluster_1000.append(-1)\n",
    "    count += 1\n",
    "differences_1000_iter = np.where(np.isin(labels, majority_labels_1000) == False)[0]\n",
    "print(\"The following numbers have no own cluster: {}\".format(differences_1000_iter))\n",
    "print(percentages_maj_cluster_1000)"
   ]
  },
  {
   "cell_type": "code",
   "execution_count": 117,
   "metadata": {},
   "outputs": [
    {
     "data": {
      "text/html": [
       "<div>\n",
       "<style scoped>\n",
       "    .dataframe tbody tr th:only-of-type {\n",
       "        vertical-align: middle;\n",
       "    }\n",
       "\n",
       "    .dataframe tbody tr th {\n",
       "        vertical-align: top;\n",
       "    }\n",
       "\n",
       "    .dataframe thead th {\n",
       "        text-align: right;\n",
       "    }\n",
       "</style>\n",
       "<table border=\"1\" class=\"dataframe\">\n",
       "  <thead>\n",
       "    <tr style=\"text-align: right;\">\n",
       "      <th></th>\n",
       "      <th>10</th>\n",
       "      <th>100</th>\n",
       "      <th>1000</th>\n",
       "    </tr>\n",
       "  </thead>\n",
       "  <tbody>\n",
       "    <tr>\n",
       "      <th>0</th>\n",
       "      <td>0.528322</td>\n",
       "      <td>0.787268</td>\n",
       "      <td>0.528368</td>\n",
       "    </tr>\n",
       "    <tr>\n",
       "      <th>1</th>\n",
       "      <td>0.357854</td>\n",
       "      <td>0.526563</td>\n",
       "      <td>0.625399</td>\n",
       "    </tr>\n",
       "    <tr>\n",
       "      <th>2</th>\n",
       "      <td>0.891461</td>\n",
       "      <td>0.356951</td>\n",
       "      <td>0.427714</td>\n",
       "    </tr>\n",
       "    <tr>\n",
       "      <th>3</th>\n",
       "      <td>0.519046</td>\n",
       "      <td>0.623031</td>\n",
       "      <td>0.357359</td>\n",
       "    </tr>\n",
       "    <tr>\n",
       "      <th>4</th>\n",
       "      <td>0.855749</td>\n",
       "      <td>0.532368</td>\n",
       "      <td>0.859241</td>\n",
       "    </tr>\n",
       "    <tr>\n",
       "      <th>5</th>\n",
       "      <td>0.803212</td>\n",
       "      <td>0.858916</td>\n",
       "      <td>0.904869</td>\n",
       "    </tr>\n",
       "    <tr>\n",
       "      <th>6</th>\n",
       "      <td>0.569113</td>\n",
       "      <td>0.896007</td>\n",
       "      <td>0.897112</td>\n",
       "    </tr>\n",
       "    <tr>\n",
       "      <th>7</th>\n",
       "      <td>0.427077</td>\n",
       "      <td>0.906654</td>\n",
       "      <td>0.527837</td>\n",
       "    </tr>\n",
       "    <tr>\n",
       "      <th>8</th>\n",
       "      <td>0.597505</td>\n",
       "      <td>0.529574</td>\n",
       "      <td>0.787201</td>\n",
       "    </tr>\n",
       "    <tr>\n",
       "      <th>9</th>\n",
       "      <td>0.904699</td>\n",
       "      <td>0.426039</td>\n",
       "      <td>0.526400</td>\n",
       "    </tr>\n",
       "  </tbody>\n",
       "</table>\n",
       "</div>"
      ],
      "text/plain": [
       "         10       100      1000\n",
       "0  0.528322  0.787268  0.528368\n",
       "1  0.357854  0.526563  0.625399\n",
       "2  0.891461  0.356951  0.427714\n",
       "3  0.519046  0.623031  0.357359\n",
       "4  0.855749  0.532368  0.859241\n",
       "5  0.803212  0.858916  0.904869\n",
       "6  0.569113  0.896007  0.897112\n",
       "7  0.427077  0.906654  0.527837\n",
       "8  0.597505  0.529574  0.787201\n",
       "9  0.904699  0.426039  0.526400"
      ]
     },
     "execution_count": 117,
     "metadata": {},
     "output_type": "execute_result"
    }
   ],
   "source": [
    "combined_percentages = [percentages_maj_cluster_10, percentages_maj_cluster_100, percentages_maj_cluster_1000]\n",
    "df1 = pd.DataFrame(np.array(combined_percentages).T, columns=[\"10\", \"100\", \"1000\"])\n",
    "np.array(combined_percentages).T\n",
    "df1"
   ]
  },
  {
   "cell_type": "markdown",
   "metadata": {},
   "source": [
    "# Answer\n",
    "\n",
    "## Majority class of each cluster\n",
    "\n",
    "(also see the results in the above test runs)\n",
    "\n",
    "#### kmeans with 10 iterations (real iterations = 9)\n",
    "Cluster 0 -> 8;\n",
    "Cluster 1 -> 4;\n",
    "Cluster 2 -> 2;\n",
    "Cluster 3 -> 3;\n",
    "Cluster 4 -> 6;\n",
    "Cluster 5 -> 0;\n",
    "Cluster 6 -> 1;\n",
    "Cluster 7 -> 7;\n",
    "Cluster 8 -> 1;\n",
    "Cluster 9 -> 0 <br><br>\n",
    "\n",
    "#### kmeans with 100 iterations (real iterations = 63)\n",
    "Cluster 0 -> 0;\n",
    "Cluster 1 -> 3;\n",
    "Cluster 2 -> 4;\n",
    "Cluster 3 -> 1;\n",
    "Cluster 4 -> 1;\n",
    "Cluster 5 -> 6;\n",
    "Cluster 6 -> 2;\n",
    "Cluster 7 -> 0;\n",
    "Cluster 8 -> 8;\n",
    "Cluster 9 -> 7 <br><br>\n",
    "\n",
    "#### kmeans with 1000 iterations (real iterations = 41)\n",
    "Cluster 0 -> 8;\n",
    "Cluster 1 -> 1;\n",
    "Cluster 2 -> 7;\n",
    "Cluster 3 -> 4;\n",
    "Cluster 4 -> 6;\n",
    "Cluster 5 -> 0;\n",
    "Cluster 6 -> 2;\n",
    "Cluster 7 -> 1;\n",
    "Cluster 8 -> 0;\n",
    "Cluster 9 -> 3 <br><br>\n",
    "\n",
    "## Percentage of majority of each cluster\n",
    "\n",
    "(see above table)\n",
    "\n",
    "\n",
    "## Do all numbers have a cluster?\n",
    "Assumption: \"Own cluster\" means the number has a cluster in which it holds the majority of elements; one could expect that each number \"has one cluster\" meaning each number is the majority group in one cluster.\n",
    "\n",
    "#### kmeans with 10 iterations\n",
    "No, the numbers 5,9 have no own cluster. <br>\n",
    "The numbers 0, 1 have two clusters each.\n",
    "\n",
    "#### kmeans with 100 iterations\n",
    "No, the numbers 5, 9 have no own cluster. <br>\n",
    "The numbers 0, 1 have two clusters each.\n",
    "\n",
    "#### kmeans with 1000 iterations\n",
    "No, the numbers 5, 9 have no own cluster. <br>\n",
    "The numbers 0, 1 have two clusters each."
   ]
  },
  {
   "cell_type": "code",
   "execution_count": null,
   "metadata": {},
   "outputs": [],
   "source": []
  }
 ],
 "metadata": {
  "kernelspec": {
   "display_name": "Python 3",
   "language": "python",
   "name": "python3"
  },
  "language_info": {
   "codemirror_mode": {
    "name": "ipython",
    "version": 3
   },
   "file_extension": ".py",
   "mimetype": "text/x-python",
   "name": "python",
   "nbconvert_exporter": "python",
   "pygments_lexer": "ipython3",
   "version": "3.6.4"
  }
 },
 "nbformat": 4,
 "nbformat_minor": 2
}
