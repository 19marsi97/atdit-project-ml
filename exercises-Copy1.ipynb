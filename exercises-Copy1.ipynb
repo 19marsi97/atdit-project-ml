{
 "cells": [
  {
   "cell_type": "markdown",
   "metadata": {},
   "source": [
    "\n",
    "# A KNN\n",
    "_2 points_\n",
    "\n",
    "- How many distances you need to calculate if you have 60,000 samples in the trainingset for 50 samples? \n",
    "- How many distances do you need to calculate if you have n samples im the trainingset?"
   ]
  },
  {
   "cell_type": "markdown",
   "metadata": {},
   "source": [
    "### Solution\n",
    "\n",
    "A 1. 60000 samples (training). <br>\n",
    "50 samples are tested on the set, finding the closest to the given sample. <br>\n",
    "For each sample, all pictures are checked, so per sample 60000 distances are calculated. <br>\n",
    "So, this follows into: 60000 \\* 50 = 3.000.000 distances total <br><br>\n",
    "A 2. Examples trainingset (n) \\* Samples = total distances"
   ]
  },
  {
   "cell_type": "markdown",
   "metadata": {},
   "source": [
    "# B KNN MNIST\n",
    "_3 points_\n",
    "\n",
    "- What is the error rate of KNN on the test set?\n",
    "- What is the error rate for each label (number)?\n",
    "\n",
    "Do for k = 2, 4, 8\n",
    "\n",
    "- How does the choice of k influence the results?"
   ]
  },
  {
   "cell_type": "markdown",
   "metadata": {},
   "source": [
    "### Solution"
   ]
  },
  {
   "cell_type": "code",
   "execution_count": 1,
   "metadata": {},
   "outputs": [],
   "source": [
    "import tensorflow as tf\n",
    "import numpy as np\n",
    "from sklearn.neighbors import KNeighborsClassifier\n",
    "from sklearn.metrics import classification_report\n",
    "import matplotlib.pyplot as plt\n",
    "from sklearn.metrics import f1_score"
   ]
  },
  {
   "cell_type": "code",
   "execution_count": 2,
   "metadata": {},
   "outputs": [],
   "source": [
    "(x_train, y_train), (x_test, y_test) = tf.keras.datasets.mnist.load_data() # load dataset\n",
    "# reshape the train sets into 2D arrays\n",
    "x_train_flat = x_train.reshape([x_train.shape[0],\n",
    "                              x_train.shape[1] * x_train.shape[2]])\n",
    "x_test_flat = x_test.reshape([x_test.shape[0],\n",
    "                           x_test.shape[1] * x_test.shape[2]])"
   ]
  },
  {
   "cell_type": "code",
   "execution_count": 3,
   "metadata": {},
   "outputs": [],
   "source": [
    "# creating the KNN models with k = 2, 4, 8\n",
    "# n_jobs = -1 makes sure that all cores are used for the model\n",
    "knn_2 = KNeighborsClassifier(n_neighbors=2, n_jobs=-1)\n",
    "knn_4 = KNeighborsClassifier(n_neighbors=4, n_jobs=-1)\n",
    "knn_8 = KNeighborsClassifier(n_neighbors=8, n_jobs=-1)"
   ]
  },
  {
   "cell_type": "code",
   "execution_count": 4,
   "metadata": {},
   "outputs": [
    {
     "data": {
      "text/plain": [
       "KNeighborsClassifier(algorithm='auto', leaf_size=30, metric='minkowski',\n",
       "           metric_params=None, n_jobs=-1, n_neighbors=8, p=2,\n",
       "           weights='uniform')"
      ]
     },
     "execution_count": 4,
     "metadata": {},
     "output_type": "execute_result"
    }
   ],
   "source": [
    "# Fitting the train set into the knn models\n",
    "knn_2.fit(x_train_flat, y_train)\n",
    "knn_4.fit(x_train_flat, y_train)\n",
    "knn_8.fit(x_train_flat, y_train)"
   ]
  },
  {
   "cell_type": "code",
   "execution_count": 5,
   "metadata": {},
   "outputs": [],
   "source": [
    "knn_2_predictions = knn_2.predict(x_test_flat)\n",
    "knn_4_predictions = knn_4.predict(x_test_flat)\n",
    "knn_8_predictions = knn_8.predict(x_test_flat)"
   ]
  },
  {
   "cell_type": "code",
   "execution_count": 6,
   "metadata": {},
   "outputs": [
    {
     "name": "stdout",
     "output_type": "stream",
     "text": [
      "Error rate for knn 2: 0.0373\n",
      "Error rate for knn 4: 0.03180000000000005\n",
      "Error rate for knn 8: 0.03300000000000003\n"
     ]
    }
   ],
   "source": [
    "# Assumption: We define the error rate as 1 - f1 score.\n",
    "# We chose the f1 score because it combines the results from the precision and recall results.\n",
    "# Because we have a multiclass model we chose \"micro\" as the average parameter to get a global overview of the score\n",
    "knn_2_f1_score = f1_score(y_test, knn_2_predictions, average=\"micro\")\n",
    "knn_4_f1_score = f1_score(y_test, knn_4_predictions, average=\"micro\")\n",
    "knn_8_f1_score = f1_score(y_test, knn_8_predictions, average=\"micro\")\n",
    "print(\"Error rate for knn {}: {}\".format(2, (1 - knn_2_f1_score)))\n",
    "print(\"Error rate for knn {}: {}\".format(4, (1 - knn_4_f1_score)))\n",
    "print(\"Error rate for knn {}: {}\".format(8, (1 - knn_8_f1_score)))"
   ]
  },
  {
   "cell_type": "code",
   "execution_count": 30,
   "metadata": {},
   "outputs": [
    {
     "name": "stdout",
     "output_type": "stream",
     "text": [
      "0: (980,)\n"
     ]
    }
   ],
   "source": [
    "# To calculate the individual error rates, we will isolate the prediction results\n",
    "# by individual labels and define the error rate again as 1 - f1 score\n",
    "for i in range(10):\n",
    "    indices = np.where(y_test ==i)\n",
    "    indices = indices[0] # np. where returns a tuple with the first element being the array we want to work with\n",
    "    print(\"{}: {}\".format(i, indices.shape))\n",
    "    \n",
    "    \n",
    "    \n",
    "    break"
   ]
  },
  {
   "cell_type": "code",
   "execution_count": null,
   "metadata": {},
   "outputs": [],
   "source": []
  }
 ],
 "metadata": {
  "kernelspec": {
   "display_name": "Python 3",
   "language": "python",
   "name": "python3"
  },
  "language_info": {
   "codemirror_mode": {
    "name": "ipython",
    "version": 3
   },
   "file_extension": ".py",
   "mimetype": "text/x-python",
   "name": "python",
   "nbconvert_exporter": "python",
   "pygments_lexer": "ipython3",
   "version": "3.6.4"
  }
 },
 "nbformat": 4,
 "nbformat_minor": 2
}
