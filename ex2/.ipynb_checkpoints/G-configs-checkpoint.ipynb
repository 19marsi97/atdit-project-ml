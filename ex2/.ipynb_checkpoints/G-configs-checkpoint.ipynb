{
 "cells": [
  {
   "cell_type": "markdown",
   "metadata": {},
   "source": [
    "# Exercise G: Config 1"
   ]
  },
  {
   "cell_type": "markdown",
   "metadata": {},
   "source": [
    "Create differences within the following parameters:\n",
    "\n",
    "- Batch size (try 64, 128 and 1024)\n",
    "- Number of Layers\n",
    "- Activation function ((hard) sigmoid, softmax, relu, tanh)\n",
    "- Regularization methods (kernel, dropout, batch) and their parameters\n",
    "- Cycles (defined as a set of layers and a closing regularization"
   ]
  },
  {
   "cell_type": "code",
   "execution_count": null,
   "metadata": {},
   "outputs": [],
   "source": []
  }
 ],
 "metadata": {
  "kernelspec": {
   "display_name": "Python 3",
   "language": "python",
   "name": "python3"
  },
  "language_info": {
   "codemirror_mode": {
    "name": "ipython",
    "version": 3
   },
   "file_extension": ".py",
   "mimetype": "text/x-python",
   "name": "python",
   "nbconvert_exporter": "python",
   "pygments_lexer": "ipython3",
   "version": "3.6.4"
  }
 },
 "nbformat": 4,
 "nbformat_minor": 2
}
