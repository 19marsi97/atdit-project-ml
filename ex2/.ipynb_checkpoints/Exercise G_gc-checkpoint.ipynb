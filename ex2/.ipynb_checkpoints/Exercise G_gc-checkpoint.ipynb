{
 "cells": [
  {
   "cell_type": "code",
   "execution_count": 2,
   "metadata": {},
   "outputs": [
    {
     "name": "stderr",
     "output_type": "stream",
     "text": [
      "Using TensorFlow backend.\n"
     ]
    }
   ],
   "source": [
    "import keras\n",
    "from keras.datasets import cifar10\n",
    "from keras.models import Sequential\n",
    "from keras.layers import Dense, Flatten, BatchNormalization\n",
    "from keras.layers import Conv2D, MaxPooling2D, Dropout, Activation\n",
    "from keras import backend as K\n",
    "from keras.utils import to_categorical\n",
    "from keras import regularizers"
   ]
  },
  {
   "cell_type": "code",
   "execution_count": 3,
   "metadata": {
    "collapsed": true
   },
   "outputs": [],
   "source": [
    "# change batch_size and epochs for fine tuning\n",
    "# image_classes MUST remain at 10!!!\n",
    "\n",
    "batch_size = 128\n",
    "image_classes = 10\n",
    "epochs = 30"
   ]
  },
  {
   "cell_type": "code",
   "execution_count": 4,
   "metadata": {},
   "outputs": [],
   "source": [
    "# split data\n",
    "(x_train, y_train), (x_test, y_test) = cifar10.load_data()\n",
    "y_train = to_categorical(y_train, image_classes)\n",
    "y_test = to_categorical(y_test, image_classes)"
   ]
  },
  {
   "cell_type": "code",
   "execution_count": 5,
   "metadata": {},
   "outputs": [],
   "source": [
    "# create the model\n",
    "model = Sequential()\n",
    "decay = 1e-4\n",
    "model.add(Conv2D(64, kernel_size=(3, 3), activation=\"sigmoid\", input_shape=(32, 32, 3), kernel_regularizer=regularizers.l2(decay)))\n",
    "model.add(BatchNormalization())\n",
    "model.add(MaxPooling2D(pool_size=(2, 2)))\n",
    "#model.add(BatchNormalization())\n",
    "model.add(Dropout(0.2))\n",
    "model.add(Flatten())\n",
    "model.add(Dense(image_classes, activation=\"softmax\"))\n",
    "\n",
    "model.compile(loss=\"categorical_crossentropy\", optimizer=\"adam\", metrics=[\"accuracy\"])"
   ]
  },
  {
   "cell_type": "code",
   "execution_count": 6,
   "metadata": {},
   "outputs": [
    {
     "name": "stdout",
     "output_type": "stream",
     "text": [
      "_________________________________________________________________\n",
      "Layer (type)                 Output Shape              Param #   \n",
      "=================================================================\n",
      "conv2d_1 (Conv2D)            (None, 30, 30, 64)        1792      \n",
      "_________________________________________________________________\n",
      "batch_normalization_1 (Batch (None, 30, 30, 64)        256       \n",
      "_________________________________________________________________\n",
      "max_pooling2d_1 (MaxPooling2 (None, 15, 15, 64)        0         \n",
      "_________________________________________________________________\n",
      "dropout_1 (Dropout)          (None, 15, 15, 64)        0         \n",
      "_________________________________________________________________\n",
      "flatten_1 (Flatten)          (None, 14400)             0         \n",
      "_________________________________________________________________\n",
      "dense_1 (Dense)              (None, 10)                144010    \n",
      "=================================================================\n",
      "Total params: 146,058\n",
      "Trainable params: 145,930\n",
      "Non-trainable params: 128\n",
      "_________________________________________________________________\n"
     ]
    }
   ],
   "source": [
    "# compilation\n",
    "model.compile(loss=\"categorical_crossentropy\", optimizer=\"adam\", metrics=[\"accuracy\"])\n",
    "model.summary()"
   ]
  },
  {
   "cell_type": "code",
   "execution_count": 7,
   "metadata": {},
   "outputs": [
    {
     "name": "stdout",
     "output_type": "stream",
     "text": [
      "Train on 50000 samples, validate on 10000 samples\n",
      "Epoch 1/30\n",
      "50000/50000 [==============================] - 106s 2ms/step - loss: 1.7121 - acc: 0.4644 - val_loss: 1.6622 - val_acc: 0.4702\n",
      "Epoch 2/30\n",
      "50000/50000 [==============================] - 105s 2ms/step - loss: 1.3584 - acc: 0.5570 - val_loss: 1.5017 - val_acc: 0.5139\n",
      "Epoch 3/30\n",
      "50000/50000 [==============================] - 105s 2ms/step - loss: 1.2252 - acc: 0.5905 - val_loss: 1.3330 - val_acc: 0.5617\n",
      "Epoch 4/30\n",
      "50000/50000 [==============================] - 105s 2ms/step - loss: 1.1544 - acc: 0.6107 - val_loss: 1.3171 - val_acc: 0.5731\n",
      "Epoch 5/30\n",
      "50000/50000 [==============================] - 106s 2ms/step - loss: 1.0969 - acc: 0.6270 - val_loss: 1.3915 - val_acc: 0.5505\n",
      "Epoch 6/30\n",
      "50000/50000 [==============================] - 105s 2ms/step - loss: 1.0635 - acc: 0.6384 - val_loss: 1.3256 - val_acc: 0.5629\n",
      "Epoch 7/30\n",
      "50000/50000 [==============================] - 105s 2ms/step - loss: 1.0249 - acc: 0.6496 - val_loss: 1.3502 - val_acc: 0.5624\n",
      "Epoch 8/30\n",
      "50000/50000 [==============================] - 105s 2ms/step - loss: 1.0053 - acc: 0.6548 - val_loss: 1.3513 - val_acc: 0.5693\n",
      "Epoch 9/30\n",
      "50000/50000 [==============================] - 106s 2ms/step - loss: 0.9885 - acc: 0.6619 - val_loss: 1.2928 - val_acc: 0.5768\n",
      "Epoch 10/30\n",
      "50000/50000 [==============================] - 105s 2ms/step - loss: 0.9581 - acc: 0.6674 - val_loss: 1.3456 - val_acc: 0.5690\n",
      "Epoch 11/30\n",
      "50000/50000 [==============================] - 105s 2ms/step - loss: 0.9478 - acc: 0.6706 - val_loss: 1.2840 - val_acc: 0.5900\n",
      "Epoch 12/30\n",
      "50000/50000 [==============================] - 105s 2ms/step - loss: 0.9366 - acc: 0.6751 - val_loss: 1.4943 - val_acc: 0.5307\n",
      "Epoch 13/30\n",
      "50000/50000 [==============================] - 105s 2ms/step - loss: 0.9296 - acc: 0.6756 - val_loss: 1.2769 - val_acc: 0.5900\n",
      "Epoch 14/30\n",
      "50000/50000 [==============================] - 105s 2ms/step - loss: 0.9031 - acc: 0.6881 - val_loss: 1.3330 - val_acc: 0.5807\n",
      "Epoch 15/30\n",
      "50000/50000 [==============================] - 105s 2ms/step - loss: 0.8874 - acc: 0.6945 - val_loss: 1.3726 - val_acc: 0.5747\n",
      "Epoch 16/30\n",
      "50000/50000 [==============================] - 105s 2ms/step - loss: 0.8855 - acc: 0.6928 - val_loss: 1.3505 - val_acc: 0.5751\n",
      "Epoch 17/30\n",
      "50000/50000 [==============================] - 106s 2ms/step - loss: 0.8729 - acc: 0.6970 - val_loss: 1.3359 - val_acc: 0.5821\n",
      "Epoch 18/30\n",
      "50000/50000 [==============================] - 105s 2ms/step - loss: 0.8592 - acc: 0.7005 - val_loss: 1.4511 - val_acc: 0.5477\n",
      "Epoch 19/30\n",
      "50000/50000 [==============================] - 105s 2ms/step - loss: 0.8563 - acc: 0.7016 - val_loss: 1.3594 - val_acc: 0.5746\n",
      "Epoch 20/30\n",
      "50000/50000 [==============================] - 105s 2ms/step - loss: 0.8494 - acc: 0.7035 - val_loss: 1.3484 - val_acc: 0.5847\n",
      "Epoch 21/30\n",
      "50000/50000 [==============================] - 105s 2ms/step - loss: 0.8382 - acc: 0.7074 - val_loss: 1.3494 - val_acc: 0.5872\n",
      "Epoch 22/30\n",
      "50000/50000 [==============================] - 105s 2ms/step - loss: 0.8295 - acc: 0.7089 - val_loss: 1.3303 - val_acc: 0.5940\n",
      "Epoch 23/30\n",
      "50000/50000 [==============================] - 105s 2ms/step - loss: 0.8195 - acc: 0.7138 - val_loss: 1.3319 - val_acc: 0.5835\n",
      "Epoch 24/30\n",
      "50000/50000 [==============================] - 105s 2ms/step - loss: 0.8143 - acc: 0.7163 - val_loss: 1.4170 - val_acc: 0.5726\n",
      "Epoch 25/30\n",
      "50000/50000 [==============================] - 105s 2ms/step - loss: 0.8068 - acc: 0.7190 - val_loss: 1.3276 - val_acc: 0.5961\n",
      "Epoch 26/30\n",
      "50000/50000 [==============================] - 105s 2ms/step - loss: 0.8121 - acc: 0.7167 - val_loss: 1.5708 - val_acc: 0.5442\n",
      "Epoch 27/30\n",
      "50000/50000 [==============================] - 106s 2ms/step - loss: 0.8094 - acc: 0.7176 - val_loss: 1.4046 - val_acc: 0.5797\n",
      "Epoch 28/30\n",
      "50000/50000 [==============================] - 104s 2ms/step - loss: 0.8023 - acc: 0.7192 - val_loss: 1.3768 - val_acc: 0.5940\n",
      "Epoch 29/30\n",
      "50000/50000 [==============================] - 104s 2ms/step - loss: 0.7960 - acc: 0.7226 - val_loss: 1.4037 - val_acc: 0.5859\n",
      "Epoch 30/30\n",
      "50000/50000 [==============================] - 105s 2ms/step - loss: 0.7922 - acc: 0.7236 - val_loss: 1.4042 - val_acc: 0.5817\n"
     ]
    }
   ],
   "source": [
    "train_size = 50000\n",
    "test_size = 10000\n",
    "if (y_test.shape == (10000, 10)):\n",
    "    model.fit(x_train[:train_size], y_train[:train_size],\n",
    "          batch_size=batch_size,\n",
    "          epochs=epochs,\n",
    "          shuffle=True,\n",
    "          validation_data=(x_test[:test_size], y_test[:test_size]))\n",
    "else:\n",
    "    raise AttributeError(\"y_test.shape must be (10000, 10) but is {}\".format(y_test.shape))"
   ]
  },
  {
   "cell_type": "code",
   "execution_count": 8,
   "metadata": {},
   "outputs": [
    {
     "name": "stdout",
     "output_type": "stream",
     "text": [
      "Test loss: 1.4041981353759765\n",
      "Test accuracy: 0.5817\n"
     ]
    }
   ],
   "source": [
    "score = model.evaluate(x_test, y_test, verbose=0)\n",
    "print(\"Test loss:\", score[0])\n",
    "print(\"Test accuracy:\", score[1])"
   ]
  },
  {
   "cell_type": "code",
   "execution_count": null,
   "metadata": {
    "collapsed": true
   },
   "outputs": [],
   "source": []
  }
 ],
 "metadata": {
  "kernelspec": {
   "display_name": "Python 3",
   "language": "python",
   "name": "python3"
  },
  "language_info": {
   "codemirror_mode": {
    "name": "ipython",
    "version": 3
   },
   "file_extension": ".py",
   "mimetype": "text/x-python",
   "name": "python",
   "nbconvert_exporter": "python",
   "pygments_lexer": "ipython3",
   "version": "3.6.4"
  }
 },
 "nbformat": 4,
 "nbformat_minor": 1
}
