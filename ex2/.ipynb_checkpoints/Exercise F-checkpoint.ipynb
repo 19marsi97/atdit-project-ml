{
 "cells": [
  {
   "cell_type": "markdown",
   "metadata": {},
   "source": [
    "# F Neural Networks Overfitting\n",
    "\n",
    "_6 points_\n",
    "\n",
    "- Train a neural net and overfit it to cifar. \n",
    "- Don't use any regularization. \n",
    "- Don't use my crappy implementation, but use keras. Use the train and test splits in the data do evaluate the model."
   ]
  },
  {
   "cell_type": "code",
   "execution_count": 1,
   "metadata": {},
   "outputs": [
    {
     "name": "stderr",
     "output_type": "stream",
     "text": [
      "Using TensorFlow backend.\n"
     ]
    }
   ],
   "source": [
    "import keras\n",
    "from keras.datasets import cifar10\n",
    "from keras.models import Sequential\n",
    "from keras.layers import Dense, Flatten\n",
    "from keras.layers import Conv2D, MaxPooling2D\n",
    "from keras import backend as K\n",
    "from keras.utils import to_categorical"
   ]
  },
  {
   "cell_type": "code",
   "execution_count": 2,
   "metadata": {},
   "outputs": [],
   "source": [
    "# change batch_size and epochs for fine tuning\n",
    "# image_classes MUST remain at 10!!!\n",
    "\n",
    "batch_size = 128\n",
    "image_classes = 10\n",
    "epochs = 20"
   ]
  },
  {
   "cell_type": "code",
   "execution_count": 3,
   "metadata": {},
   "outputs": [],
   "source": [
    "# split data\n",
    "(x_train, y_train), (x_test, y_test) = cifar10.load_data()\n",
    "\n",
    "# test: to categorical\n",
    "y_train = to_categorical(y_train, image_classes)\n",
    "y_test = to_categorical(y_test, image_classes)\n",
    "\n",
    "# prints for testing\n",
    "# print(x_train.shape)\n",
    "# print(x_train[0].shape)\n",
    "# print(x_train.shape[0])\n",
    "# print(y_test.shape)"
   ]
  },
  {
   "cell_type": "code",
   "execution_count": 4,
   "metadata": {},
   "outputs": [
    {
     "name": "stdout",
     "output_type": "stream",
     "text": [
      "WARNING:tensorflow:From c:\\users\\d070700\\appdata\\local\\programs\\python\\python36\\lib\\site-packages\\keras\\backend\\tensorflow_backend.py:1062: calling reduce_prod (from tensorflow.python.ops.math_ops) with keep_dims is deprecated and will be removed in a future version.\n",
      "Instructions for updating:\n",
      "keep_dims is deprecated, use keepdims instead\n",
      "WARNING:tensorflow:From c:\\users\\d070700\\appdata\\local\\programs\\python\\python36\\lib\\site-packages\\keras\\backend\\tensorflow_backend.py:2550: calling reduce_sum (from tensorflow.python.ops.math_ops) with keep_dims is deprecated and will be removed in a future version.\n",
      "Instructions for updating:\n",
      "keep_dims is deprecated, use keepdims instead\n",
      "WARNING:tensorflow:From c:\\users\\d070700\\appdata\\local\\programs\\python\\python36\\lib\\site-packages\\keras\\backend\\tensorflow_backend.py:1123: calling reduce_mean (from tensorflow.python.ops.math_ops) with keep_dims is deprecated and will be removed in a future version.\n",
      "Instructions for updating:\n",
      "keep_dims is deprecated, use keepdims instead\n"
     ]
    }
   ],
   "source": [
    "# create the model\n",
    "model = Sequential()\n",
    "model.add(Conv2D(64, kernel_size=(3, 3), activation=\"sigmoid\", input_shape=(32, 32, 3)))\n",
    "model.add(MaxPooling2D(pool_size=(2, 2)))\n",
    "model.add(Flatten())\n",
    "model.add(Dense(image_classes, activation=\"softmax\"))\n",
    "\n",
    "model.compile(loss=\"categorical_crossentropy\", optimizer=\"adam\", metrics=[\"accuracy\"])"
   ]
  },
  {
   "cell_type": "code",
   "execution_count": 5,
   "metadata": {},
   "outputs": [
    {
     "name": "stdout",
     "output_type": "stream",
     "text": [
      "_________________________________________________________________\n",
      "Layer (type)                 Output Shape              Param #   \n",
      "=================================================================\n",
      "conv2d_1 (Conv2D)            (None, 30, 30, 64)        1792      \n",
      "_________________________________________________________________\n",
      "max_pooling2d_1 (MaxPooling2 (None, 15, 15, 64)        0         \n",
      "_________________________________________________________________\n",
      "flatten_1 (Flatten)          (None, 14400)             0         \n",
      "_________________________________________________________________\n",
      "dense_1 (Dense)              (None, 10)                144010    \n",
      "=================================================================\n",
      "Total params: 145,802.0\n",
      "Trainable params: 145,802.0\n",
      "Non-trainable params: 0.0\n",
      "_________________________________________________________________\n"
     ]
    }
   ],
   "source": [
    "# print a summary of the model\n",
    "model.summary()"
   ]
  },
  {
   "cell_type": "code",
   "execution_count": 6,
   "metadata": {
    "scrolled": false
   },
   "outputs": [
    {
     "name": "stdout",
     "output_type": "stream",
     "text": [
      "Train on 50000 samples, validate on 10000 samples\n",
      "Epoch 1/20\n",
      "50000/50000 [==============================] - 125s - loss: 5.9586 - acc: 0.3318 - val_loss: 5.6520 - val_acc: 0.4055\n",
      "Epoch 2/20\n",
      "50000/50000 [==============================] - 106s - loss: 5.5840 - acc: 0.4251 - val_loss: 5.6622 - val_acc: 0.4044\n",
      "Epoch 3/20\n",
      "50000/50000 [==============================] - 124s - loss: 5.5225 - acc: 0.4492 - val_loss: 5.5781 - val_acc: 0.4265\n",
      "Epoch 4/20\n",
      "50000/50000 [==============================] - 122s - loss: 5.4716 - acc: 0.4680 - val_loss: 5.5662 - val_acc: 0.4406\n",
      "Epoch 5/20\n",
      "50000/50000 [==============================] - 134s - loss: 5.4233 - acc: 0.4866 - val_loss: 5.6250 - val_acc: 0.4201\n",
      "Epoch 6/20\n",
      "50000/50000 [==============================] - 115s - loss: 5.4030 - acc: 0.4963 - val_loss: 5.5794 - val_acc: 0.4390\n",
      "Epoch 7/20\n",
      "50000/50000 [==============================] - 109s - loss: 5.3697 - acc: 0.5057 - val_loss: 5.6734 - val_acc: 0.4185\n",
      "Epoch 8/20\n",
      "50000/50000 [==============================] - 105s - loss: 5.3363 - acc: 0.5187 - val_loss: 5.5794 - val_acc: 0.4469\n",
      "Epoch 9/20\n",
      "50000/50000 [==============================] - 105s - loss: 5.3093 - acc: 0.5271 - val_loss: 5.5796 - val_acc: 0.4443\n",
      "Epoch 10/20\n",
      "50000/50000 [==============================] - 114s - loss: 5.2893 - acc: 0.5352 - val_loss: 5.5909 - val_acc: 0.4443\n",
      "Epoch 11/20\n",
      "50000/50000 [==============================] - 114s - loss: 3.5071 - acc: 0.5689 - val_loss: 2.7030 - val_acc: 0.5385\n",
      "Epoch 12/20\n",
      "50000/50000 [==============================] - 97s - loss: 1.6793 - acc: 0.6524 - val_loss: 1.2710 - val_acc: 0.5850\n",
      "Epoch 13/20\n",
      "50000/50000 [==============================] - 97s - loss: 0.8040 - acc: 0.7167 - val_loss: 1.2324 - val_acc: 0.6038\n",
      "Epoch 14/20\n",
      "50000/50000 [==============================] - 86s - loss: 0.7118 - acc: 0.7489 - val_loss: 1.2813 - val_acc: 0.5969\n",
      "Epoch 15/20\n",
      "50000/50000 [==============================] - 117s - loss: 0.6696 - acc: 0.7639 - val_loss: 1.2807 - val_acc: 0.6010\n",
      "Epoch 16/20\n",
      "50000/50000 [==============================] - 96s - loss: 0.6178 - acc: 0.7833 - val_loss: 1.3057 - val_acc: 0.6033\n",
      "Epoch 17/20\n",
      "50000/50000 [==============================] - 107s - loss: 0.5737 - acc: 0.8006 - val_loss: 1.3367 - val_acc: 0.5863\n",
      "Epoch 18/20\n",
      "50000/50000 [==============================] - 112s - loss: 0.5599 - acc: 0.8031 - val_loss: 1.3317 - val_acc: 0.5961\n",
      "Epoch 19/20\n",
      "50000/50000 [==============================] - 118s - loss: 0.5307 - acc: 0.8137 - val_loss: 1.4024 - val_acc: 0.5923\n",
      "Epoch 20/20\n",
      "50000/50000 [==============================] - 106s - loss: 0.4984 - acc: 0.8274 - val_loss: 1.3461 - val_acc: 0.5996\n"
     ]
    }
   ],
   "source": [
    "train_size = 50000\n",
    "test_size = 10000\n",
    "if (y_test.shape == (10000, 10)):\n",
    "    model.fit(x_train[:train_size], y_train[:train_size],\n",
    "          batch_size=batch_size,\n",
    "          epochs=epochs,\n",
    "          shuffle=True,\n",
    "          validation_data=(x_test[:test_size], y_test[:test_size]))\n",
    "else:\n",
    "    raise AttributeError(\"y_test.shape must be (10000, 10) but is {}\".format(y_test.shape))"
   ]
  },
  {
   "cell_type": "code",
   "execution_count": 7,
   "metadata": {},
   "outputs": [
    {
     "name": "stdout",
     "output_type": "stream",
     "text": [
      "Test loss: 1.3460719955444336\n",
      "Test accuracy: 0.5996\n"
     ]
    }
   ],
   "source": [
    "score = model.evaluate(x_test, y_test, verbose=0)\n",
    "print('Test loss:', score[0])\n",
    "print('Test accuracy:', score[1])"
   ]
  },
  {
   "cell_type": "code",
   "execution_count": null,
   "metadata": {},
   "outputs": [],
   "source": []
  }
 ],
 "metadata": {
  "kernelspec": {
   "display_name": "Python 3",
   "language": "python",
   "name": "python3"
  },
  "language_info": {
   "codemirror_mode": {
    "name": "ipython",
    "version": 3
   },
   "file_extension": ".py",
   "mimetype": "text/x-python",
   "name": "python",
   "nbconvert_exporter": "python",
   "pygments_lexer": "ipython3",
   "version": "3.6.4"
  }
 },
 "nbformat": 4,
 "nbformat_minor": 2
}
