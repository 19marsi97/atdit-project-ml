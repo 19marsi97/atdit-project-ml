{
 "cells": [
  {
   "cell_type": "code",
   "execution_count": 1,
   "metadata": {},
   "outputs": [],
   "source": [
    "import numpy as np \n",
    "import pandas as pd \n",
    "\n",
    "from sklearn import preprocessing\n",
    "import matplotlib.pyplot as plt \n",
    "plt.rc(\"font\", size=14)\n",
    "import seaborn as sns\n",
    "sns.set(style=\"white\")\n",
    "sns.set(style=\"whitegrid\", color_codes=True)"
   ]
  },
  {
   "cell_type": "code",
   "execution_count": 2,
   "metadata": {},
   "outputs": [
    {
     "name": "stderr",
     "output_type": "stream",
     "text": [
      "C:\\Users\\NgoJ\\anaconda3\\lib\\site-packages\\IPython\\core\\interactiveshell.py:3018: DtypeWarning: Columns (22,32) have mixed types. Specify dtype option on import or set low_memory=False.\n",
      "  interactivity=interactivity, compiler=compiler, result=result)\n"
     ]
    },
    {
     "data": {
      "text/html": [
       "<div>\n",
       "<style scoped>\n",
       "    .dataframe tbody tr th:only-of-type {\n",
       "        vertical-align: middle;\n",
       "    }\n",
       "\n",
       "    .dataframe tbody tr th {\n",
       "        vertical-align: top;\n",
       "    }\n",
       "\n",
       "    .dataframe thead th {\n",
       "        text-align: right;\n",
       "    }\n",
       "</style>\n",
       "<table border=\"1\" class=\"dataframe\">\n",
       "  <thead>\n",
       "    <tr style=\"text-align: right;\">\n",
       "      <th></th>\n",
       "      <th>Permit Number</th>\n",
       "      <th>Permit Type</th>\n",
       "      <th>Permit Type Definition</th>\n",
       "      <th>Permit Creation Date</th>\n",
       "      <th>Block</th>\n",
       "      <th>Lot</th>\n",
       "      <th>Street Number</th>\n",
       "      <th>Street Number Suffix</th>\n",
       "      <th>Street Name</th>\n",
       "      <th>Street Suffix</th>\n",
       "      <th>...</th>\n",
       "      <th>Existing Construction Type</th>\n",
       "      <th>Existing Construction Type Description</th>\n",
       "      <th>Proposed Construction Type</th>\n",
       "      <th>Proposed Construction Type Description</th>\n",
       "      <th>Site Permit</th>\n",
       "      <th>Supervisor District</th>\n",
       "      <th>Neighborhoods - Analysis Boundaries</th>\n",
       "      <th>Zipcode</th>\n",
       "      <th>Location</th>\n",
       "      <th>Record ID</th>\n",
       "    </tr>\n",
       "  </thead>\n",
       "  <tbody>\n",
       "    <tr>\n",
       "      <th>0</th>\n",
       "      <td>201505065519</td>\n",
       "      <td>4</td>\n",
       "      <td>sign - erect</td>\n",
       "      <td>05/06/2015</td>\n",
       "      <td>0326</td>\n",
       "      <td>023</td>\n",
       "      <td>140</td>\n",
       "      <td>NaN</td>\n",
       "      <td>Ellis</td>\n",
       "      <td>St</td>\n",
       "      <td>...</td>\n",
       "      <td>3.0</td>\n",
       "      <td>constr type 3</td>\n",
       "      <td>NaN</td>\n",
       "      <td>NaN</td>\n",
       "      <td>NaN</td>\n",
       "      <td>3.0</td>\n",
       "      <td>Tenderloin</td>\n",
       "      <td>94102.0</td>\n",
       "      <td>(37.785719256680785, -122.40852313194863)</td>\n",
       "      <td>1380611233945</td>\n",
       "    </tr>\n",
       "    <tr>\n",
       "      <th>1</th>\n",
       "      <td>201604195146</td>\n",
       "      <td>4</td>\n",
       "      <td>sign - erect</td>\n",
       "      <td>04/19/2016</td>\n",
       "      <td>0306</td>\n",
       "      <td>007</td>\n",
       "      <td>440</td>\n",
       "      <td>NaN</td>\n",
       "      <td>Geary</td>\n",
       "      <td>St</td>\n",
       "      <td>...</td>\n",
       "      <td>3.0</td>\n",
       "      <td>constr type 3</td>\n",
       "      <td>NaN</td>\n",
       "      <td>NaN</td>\n",
       "      <td>NaN</td>\n",
       "      <td>3.0</td>\n",
       "      <td>Tenderloin</td>\n",
       "      <td>94102.0</td>\n",
       "      <td>(37.78733980600732, -122.41063199757738)</td>\n",
       "      <td>1420164406718</td>\n",
       "    </tr>\n",
       "    <tr>\n",
       "      <th>2</th>\n",
       "      <td>201605278609</td>\n",
       "      <td>3</td>\n",
       "      <td>additions alterations or repairs</td>\n",
       "      <td>05/27/2016</td>\n",
       "      <td>0595</td>\n",
       "      <td>203</td>\n",
       "      <td>1647</td>\n",
       "      <td>NaN</td>\n",
       "      <td>Pacific</td>\n",
       "      <td>Av</td>\n",
       "      <td>...</td>\n",
       "      <td>1.0</td>\n",
       "      <td>constr type 1</td>\n",
       "      <td>1.0</td>\n",
       "      <td>constr type 1</td>\n",
       "      <td>NaN</td>\n",
       "      <td>3.0</td>\n",
       "      <td>Russian Hill</td>\n",
       "      <td>94109.0</td>\n",
       "      <td>(37.7946573324287, -122.42232562979227)</td>\n",
       "      <td>1424856504716</td>\n",
       "    </tr>\n",
       "    <tr>\n",
       "      <th>3</th>\n",
       "      <td>201611072166</td>\n",
       "      <td>8</td>\n",
       "      <td>otc alterations permit</td>\n",
       "      <td>11/07/2016</td>\n",
       "      <td>0156</td>\n",
       "      <td>011</td>\n",
       "      <td>1230</td>\n",
       "      <td>NaN</td>\n",
       "      <td>Pacific</td>\n",
       "      <td>Av</td>\n",
       "      <td>...</td>\n",
       "      <td>5.0</td>\n",
       "      <td>wood frame (5)</td>\n",
       "      <td>5.0</td>\n",
       "      <td>wood frame (5)</td>\n",
       "      <td>NaN</td>\n",
       "      <td>3.0</td>\n",
       "      <td>Nob Hill</td>\n",
       "      <td>94109.0</td>\n",
       "      <td>(37.79595867909168, -122.41557405519474)</td>\n",
       "      <td>1443574295566</td>\n",
       "    </tr>\n",
       "    <tr>\n",
       "      <th>4</th>\n",
       "      <td>201611283529</td>\n",
       "      <td>6</td>\n",
       "      <td>demolitions</td>\n",
       "      <td>11/28/2016</td>\n",
       "      <td>0342</td>\n",
       "      <td>001</td>\n",
       "      <td>950</td>\n",
       "      <td>NaN</td>\n",
       "      <td>Market</td>\n",
       "      <td>St</td>\n",
       "      <td>...</td>\n",
       "      <td>3.0</td>\n",
       "      <td>constr type 3</td>\n",
       "      <td>NaN</td>\n",
       "      <td>NaN</td>\n",
       "      <td>NaN</td>\n",
       "      <td>6.0</td>\n",
       "      <td>Tenderloin</td>\n",
       "      <td>94102.0</td>\n",
       "      <td>(37.78315261897309, -122.40950883997789)</td>\n",
       "      <td>144548169992</td>\n",
       "    </tr>\n",
       "  </tbody>\n",
       "</table>\n",
       "<p>5 rows × 43 columns</p>\n",
       "</div>"
      ],
      "text/plain": [
       "  Permit Number  Permit Type            Permit Type Definition  \\\n",
       "0  201505065519            4                      sign - erect   \n",
       "1  201604195146            4                      sign - erect   \n",
       "2  201605278609            3  additions alterations or repairs   \n",
       "3  201611072166            8            otc alterations permit   \n",
       "4  201611283529            6                       demolitions   \n",
       "\n",
       "  Permit Creation Date Block  Lot  Street Number Street Number Suffix  \\\n",
       "0           05/06/2015  0326  023            140                  NaN   \n",
       "1           04/19/2016  0306  007            440                  NaN   \n",
       "2           05/27/2016  0595  203           1647                  NaN   \n",
       "3           11/07/2016  0156  011           1230                  NaN   \n",
       "4           11/28/2016  0342  001            950                  NaN   \n",
       "\n",
       "  Street Name Street Suffix      ...        Existing Construction Type  \\\n",
       "0       Ellis            St      ...                               3.0   \n",
       "1       Geary            St      ...                               3.0   \n",
       "2     Pacific            Av      ...                               1.0   \n",
       "3     Pacific            Av      ...                               5.0   \n",
       "4      Market            St      ...                               3.0   \n",
       "\n",
       "  Existing Construction Type Description Proposed Construction Type  \\\n",
       "0                          constr type 3                        NaN   \n",
       "1                          constr type 3                        NaN   \n",
       "2                          constr type 1                        1.0   \n",
       "3                         wood frame (5)                        5.0   \n",
       "4                          constr type 3                        NaN   \n",
       "\n",
       "  Proposed Construction Type Description Site Permit Supervisor District  \\\n",
       "0                                    NaN         NaN                 3.0   \n",
       "1                                    NaN         NaN                 3.0   \n",
       "2                          constr type 1         NaN                 3.0   \n",
       "3                         wood frame (5)         NaN                 3.0   \n",
       "4                                    NaN         NaN                 6.0   \n",
       "\n",
       "  Neighborhoods - Analysis Boundaries  Zipcode  \\\n",
       "0                          Tenderloin  94102.0   \n",
       "1                          Tenderloin  94102.0   \n",
       "2                        Russian Hill  94109.0   \n",
       "3                            Nob Hill  94109.0   \n",
       "4                          Tenderloin  94102.0   \n",
       "\n",
       "                                    Location      Record ID  \n",
       "0  (37.785719256680785, -122.40852313194863)  1380611233945  \n",
       "1   (37.78733980600732, -122.41063199757738)  1420164406718  \n",
       "2    (37.7946573324287, -122.42232562979227)  1424856504716  \n",
       "3   (37.79595867909168, -122.41557405519474)  1443574295566  \n",
       "4   (37.78315261897309, -122.40950883997789)   144548169992  \n",
       "\n",
       "[5 rows x 43 columns]"
      ]
     },
     "execution_count": 2,
     "metadata": {},
     "output_type": "execute_result"
    }
   ],
   "source": [
    "# get san francisco building permits csv files as a DataFrame\n",
    "\n",
    "missing_values = [\"n/a\", \"na\", \"--\"]\n",
    "san_francisco_df = pd.read_csv(\"./Building_Permits.csv\", na_values = missing_values)\n",
    "\n",
    "# preview developmental data\n",
    "san_francisco_df.head(5)"
   ]
  },
  {
   "cell_type": "code",
   "execution_count": 3,
   "metadata": {},
   "outputs": [
    {
     "name": "stdout",
     "output_type": "stream",
     "text": [
      "Permit Number                               0.00\n",
      "Permit Type                                 0.00\n",
      "Permit Type Definition                      0.00\n",
      "Permit Creation Date                        0.00\n",
      "Block                                       0.00\n",
      "Lot                                         0.00\n",
      "Street Number                               0.00\n",
      "Street Number Suffix                       98.89\n",
      "Street Name                                 0.00\n",
      "Street Suffix                               1.39\n",
      "Unit                                       85.18\n",
      "Unit Suffix                                99.01\n",
      "Description                                 0.15\n",
      "Current Status                              0.00\n",
      "Current Status Date                         0.00\n",
      "Filed Date                                  0.00\n",
      "Issued Date                                 7.51\n",
      "Completed Date                             51.14\n",
      "First Construction Document Date            7.51\n",
      "Structural Notification                    96.52\n",
      "Number of Existing Stories                 21.51\n",
      "Number of Proposed Stories                 21.55\n",
      "Voluntary Soft-Story Retrofit              99.98\n",
      "Fire Only Permit                           90.53\n",
      "Permit Expiration Date                     26.08\n",
      "Estimated Cost                             19.14\n",
      "Revised Cost                                3.05\n",
      "Existing Use                               20.67\n",
      "Existing Units                             25.91\n",
      "Proposed Use                               21.34\n",
      "Proposed Units                             25.60\n",
      "Plansets                                   18.76\n",
      "TIDF Compliance                           100.00\n",
      "Existing Construction Type                 21.80\n",
      "Existing Construction Type Description     21.80\n",
      "Proposed Construction Type                 21.70\n",
      "Proposed Construction Type Description     21.70\n",
      "Site Permit                                97.31\n",
      "Supervisor District                         0.86\n",
      "Neighborhoods - Analysis Boundaries         0.87\n",
      "Zipcode                                     0.86\n",
      "Location                                    0.85\n",
      "Record ID                                   0.00\n",
      "dtype: float64\n"
     ]
    }
   ],
   "source": [
    "#which percentage is missing in each column\n",
    "missing = san_francisco_df.isnull().sum()\n",
    "missing_percentage = round(missing/(len(san_francisco_df[\"Permit Number\"])),4)*100\n",
    "print(missing_percentage)"
   ]
  },
  {
   "cell_type": "code",
   "execution_count": 4,
   "metadata": {},
   "outputs": [],
   "source": [
    "#san_francisco_df.drop(['TIDF Compliance'], axis=1, inplace=True)\n",
    "#print(san_francisco_df.head(5))"
   ]
  },
  {
   "cell_type": "code",
   "execution_count": 5,
   "metadata": {},
   "outputs": [],
   "source": [
    "# for i in range (0, len(missing)):\n",
    "#     if(missing_percentage[i]>50):\n",
    "#         print(missing_percentage[i])"
   ]
  },
  {
   "cell_type": "code",
   "execution_count": 6,
   "metadata": {},
   "outputs": [
    {
     "name": "stdout",
     "output_type": "stream",
     "text": [
      "Street Number Suffix\n",
      "Unit\n",
      "Unit Suffix\n",
      "Completed Date\n",
      "Structural Notification\n",
      "Voluntary Soft-Story Retrofit\n",
      "Fire Only Permit\n",
      "TIDF Compliance\n",
      "Site Permit\n"
     ]
    }
   ],
   "source": [
    "#colunms with more than 50% of the values missing\n",
    "delete_columns = []\n",
    "for i in range (0,len(missing)):\n",
    "    if(missing_percentage[i]>50):\n",
    "        print(san_francisco_df.columns[i])\n",
    "        delete_columns.append(san_francisco_df.columns[i])\n"
   ]
  },
  {
   "cell_type": "code",
   "execution_count": 7,
   "metadata": {},
   "outputs": [
    {
     "name": "stdout",
     "output_type": "stream",
     "text": [
      "43\n",
      "34\n",
      "Index(['Permit Number', 'Permit Type', 'Permit Type Definition',\n",
      "       'Permit Creation Date', 'Block', 'Lot', 'Street Number', 'Street Name',\n",
      "       'Street Suffix', 'Description', 'Current Status', 'Current Status Date',\n",
      "       'Filed Date', 'Issued Date', 'First Construction Document Date',\n",
      "       'Number of Existing Stories', 'Number of Proposed Stories',\n",
      "       'Permit Expiration Date', 'Estimated Cost', 'Revised Cost',\n",
      "       'Existing Use', 'Existing Units', 'Proposed Use', 'Proposed Units',\n",
      "       'Plansets', 'Existing Construction Type',\n",
      "       'Existing Construction Type Description', 'Proposed Construction Type',\n",
      "       'Proposed Construction Type Description', 'Supervisor District',\n",
      "       'Neighborhoods - Analysis Boundaries', 'Zipcode', 'Location',\n",
      "       'Record ID'],\n",
      "      dtype='object')\n"
     ]
    }
   ],
   "source": [
    "#dropping colunms with more than 50% of the values missing\n",
    "san_francisco_df.drop(delete_columns, axis=1, inplace=True)\n",
    "print(len(missing_percentage))\n",
    "print(len(san_francisco_df.columns))\n",
    "print(san_francisco_df.columns)"
   ]
  },
  {
   "cell_type": "code",
   "execution_count": 9,
   "metadata": {},
   "outputs": [
    {
     "data": {
      "text/plain": [
       "array(['expired', 'issued', 'withdrawn', 'complete', 'filed', 'approved',\n",
       "       'reinstated', 'cancelled', 'appeal', 'suspend', 'revoked',\n",
       "       'plancheck', 'disapproved', 'incomplete'], dtype=object)"
      ]
     },
     "execution_count": 9,
     "metadata": {},
     "output_type": "execute_result"
    }
   ],
   "source": [
    "san_francisco_df['Current Status'].unique()"
   ]
  },
  {
   "cell_type": "code",
   "execution_count": 8,
   "metadata": {},
   "outputs": [
    {
     "data": {
      "text/plain": [
       "Permit Number                                                                  201505065519\n",
       "Permit Type                                                                               4\n",
       "Permit Type Definition                                                         sign - erect\n",
       "Permit Creation Date                                                             05/06/2015\n",
       "Block                                                                                  0326\n",
       "Lot                                                                                     023\n",
       "Street Number                                                                           140\n",
       "Street Name                                                                           Ellis\n",
       "Street Suffix                                                                            St\n",
       "Description                               ground fl facade: to erect illuminated, electr...\n",
       "Current Status                                                                      expired\n",
       "Current Status Date                                                              12/21/2017\n",
       "Filed Date                                                                       05/06/2015\n",
       "Issued Date                                                                      11/09/2015\n",
       "First Construction Document Date                                                 11/09/2015\n",
       "Number of Existing Stories                                                                6\n",
       "Number of Proposed Stories                                                              NaN\n",
       "Permit Expiration Date                                                           11/03/2016\n",
       "Estimated Cost                                                                         4000\n",
       "Revised Cost                                                                           4000\n",
       "Existing Use                                                            tourist hotel/motel\n",
       "Existing Units                                                                          143\n",
       "Proposed Use                                                                            NaN\n",
       "Proposed Units                                                                          NaN\n",
       "Plansets                                                                                  2\n",
       "Existing Construction Type                                                                3\n",
       "Existing Construction Type Description                                        constr type 3\n",
       "Proposed Construction Type                                                              NaN\n",
       "Proposed Construction Type Description                                                  NaN\n",
       "Supervisor District                                                                       3\n",
       "Neighborhoods - Analysis Boundaries                                              Tenderloin\n",
       "Zipcode                                                                               94102\n",
       "Location                                          (37.785719256680785, -122.40852313194863)\n",
       "Record ID                                                                     1380611233945\n",
       "Name: 0, dtype: object"
      ]
     },
     "execution_count": 8,
     "metadata": {},
     "output_type": "execute_result"
    }
   ],
   "source": [
    "san_francisco_df.iloc[0]"
   ]
  },
  {
   "cell_type": "code",
   "execution_count": 10,
   "metadata": {
    "scrolled": true
   },
   "outputs": [],
   "source": [
    "#dropping columns which describe another column that is numerical\n",
    "unuseful_columns = ['Record ID', 'Description', 'Permit Type Definition', 'Existing Construction Type Description', 'Proposed Construction Type Description']\n",
    "san_francisco_df.drop(unuseful_columns, axis=1, inplace=True)\n",
    "\n",
    "#keeping only one info about location/adress\n",
    "unnecessary_adress_columns = ['Block', 'Lot', 'Street Number', 'Street Name', 'Street Suffix', 'Supervisor District', 'Location', 'Zipcode']\n",
    "san_francisco_df.drop(unnecessary_adress_columns, axis=1, inplace=True)\n",
    "\n",
    "#dropping columns with dates\n",
    "date_columns = ['Permit Creation Date', 'Current Status Date', 'Issued Date', 'First Construction Document Date', 'Permit Expiration Date']\n",
    "san_francisco_df.drop(date_columns, axis=1, inplace=True)\n",
    "\n",
    "#more data is missing in proposed ... columns, looking at the data shows: existing data of proposed and existing is almost the same\n",
    "proposed_columns = ['Number of Proposed Stories', 'Proposed Use', 'Proposed Units', 'Proposed Construction Type']\n",
    "san_francisco_df.drop(proposed_columns, axis=1, inplace=True)\n",
    "\n",
    "#in \"Estimated Cost\" 19% percent is missing, only 3% in \"Revised Cost\" is missing, revised costs are the more current ones\n",
    "san_francisco_df.drop('Estimated Cost', axis=1, inplace=True)"
   ]
  },
  {
   "cell_type": "code",
   "execution_count": 11,
   "metadata": {},
   "outputs": [
    {
     "data": {
      "text/plain": [
       "(198900, 11)"
      ]
     },
     "execution_count": 11,
     "metadata": {},
     "output_type": "execute_result"
    }
   ],
   "source": [
    "san_francisco_df.shape"
   ]
  },
  {
   "cell_type": "code",
   "execution_count": 12,
   "metadata": {
    "scrolled": false
   },
   "outputs": [],
   "source": [
    "# san_francisco_df.dropna(thresh=(len(san_francisco_df.columns)), inplace=True)\n",
    "# san_francisco_df.shape"
   ]
  },
  {
   "cell_type": "code",
   "execution_count": 13,
   "metadata": {},
   "outputs": [
    {
     "data": {
      "text/plain": [
       "Permit Number                                 201505065519\n",
       "Permit Type                                              4\n",
       "Current Status                                     expired\n",
       "Filed Date                                      05/06/2015\n",
       "Number of Existing Stories                               6\n",
       "Revised Cost                                          4000\n",
       "Existing Use                           tourist hotel/motel\n",
       "Existing Units                                         143\n",
       "Plansets                                                 2\n",
       "Existing Construction Type                               3\n",
       "Neighborhoods - Analysis Boundaries             Tenderloin\n",
       "Name: 0, dtype: object"
      ]
     },
     "execution_count": 13,
     "metadata": {},
     "output_type": "execute_result"
    }
   ],
   "source": [
    "san_francisco_df.iloc[0]"
   ]
  },
  {
   "cell_type": "code",
   "execution_count": 17,
   "metadata": {},
   "outputs": [
    {
     "data": {
      "text/html": [
       "<div>\n",
       "<style scoped>\n",
       "    .dataframe tbody tr th:only-of-type {\n",
       "        vertical-align: middle;\n",
       "    }\n",
       "\n",
       "    .dataframe tbody tr th {\n",
       "        vertical-align: top;\n",
       "    }\n",
       "\n",
       "    .dataframe thead th {\n",
       "        text-align: right;\n",
       "    }\n",
       "</style>\n",
       "<table border=\"1\" class=\"dataframe\">\n",
       "  <thead>\n",
       "    <tr style=\"text-align: right;\">\n",
       "      <th></th>\n",
       "      <th>Permit Type</th>\n",
       "      <th>Number of Existing Stories</th>\n",
       "      <th>Revised Cost</th>\n",
       "      <th>Existing Units</th>\n",
       "      <th>Plansets</th>\n",
       "      <th>Existing Construction Type</th>\n",
       "    </tr>\n",
       "  </thead>\n",
       "  <tbody>\n",
       "    <tr>\n",
       "      <th>count</th>\n",
       "      <td>198900.000000</td>\n",
       "      <td>156116.000000</td>\n",
       "      <td>1.928340e+05</td>\n",
       "      <td>147362.000000</td>\n",
       "      <td>161591.000000</td>\n",
       "      <td>155534.000000</td>\n",
       "    </tr>\n",
       "    <tr>\n",
       "      <th>mean</th>\n",
       "      <td>7.522323</td>\n",
       "      <td>5.705773</td>\n",
       "      <td>1.328562e+05</td>\n",
       "      <td>15.666164</td>\n",
       "      <td>1.274650</td>\n",
       "      <td>4.072878</td>\n",
       "    </tr>\n",
       "    <tr>\n",
       "      <th>std</th>\n",
       "      <td>1.457451</td>\n",
       "      <td>8.613455</td>\n",
       "      <td>3.584903e+06</td>\n",
       "      <td>74.476321</td>\n",
       "      <td>22.407345</td>\n",
       "      <td>1.585756</td>\n",
       "    </tr>\n",
       "    <tr>\n",
       "      <th>min</th>\n",
       "      <td>1.000000</td>\n",
       "      <td>0.000000</td>\n",
       "      <td>0.000000e+00</td>\n",
       "      <td>0.000000</td>\n",
       "      <td>0.000000</td>\n",
       "      <td>1.000000</td>\n",
       "    </tr>\n",
       "    <tr>\n",
       "      <th>25%</th>\n",
       "      <td>8.000000</td>\n",
       "      <td>2.000000</td>\n",
       "      <td>1.000000e+00</td>\n",
       "      <td>1.000000</td>\n",
       "      <td>0.000000</td>\n",
       "      <td>3.000000</td>\n",
       "    </tr>\n",
       "    <tr>\n",
       "      <th>50%</th>\n",
       "      <td>8.000000</td>\n",
       "      <td>3.000000</td>\n",
       "      <td>7.000000e+03</td>\n",
       "      <td>1.000000</td>\n",
       "      <td>2.000000</td>\n",
       "      <td>5.000000</td>\n",
       "    </tr>\n",
       "    <tr>\n",
       "      <th>75%</th>\n",
       "      <td>8.000000</td>\n",
       "      <td>4.000000</td>\n",
       "      <td>2.870750e+04</td>\n",
       "      <td>4.000000</td>\n",
       "      <td>2.000000</td>\n",
       "      <td>5.000000</td>\n",
       "    </tr>\n",
       "    <tr>\n",
       "      <th>max</th>\n",
       "      <td>8.000000</td>\n",
       "      <td>78.000000</td>\n",
       "      <td>7.805000e+08</td>\n",
       "      <td>1907.000000</td>\n",
       "      <td>9000.000000</td>\n",
       "      <td>5.000000</td>\n",
       "    </tr>\n",
       "  </tbody>\n",
       "</table>\n",
       "</div>"
      ],
      "text/plain": [
       "         Permit Type  Number of Existing Stories  Revised Cost  \\\n",
       "count  198900.000000               156116.000000  1.928340e+05   \n",
       "mean        7.522323                    5.705773  1.328562e+05   \n",
       "std         1.457451                    8.613455  3.584903e+06   \n",
       "min         1.000000                    0.000000  0.000000e+00   \n",
       "25%         8.000000                    2.000000  1.000000e+00   \n",
       "50%         8.000000                    3.000000  7.000000e+03   \n",
       "75%         8.000000                    4.000000  2.870750e+04   \n",
       "max         8.000000                   78.000000  7.805000e+08   \n",
       "\n",
       "       Existing Units       Plansets  Existing Construction Type  \n",
       "count   147362.000000  161591.000000               155534.000000  \n",
       "mean        15.666164       1.274650                    4.072878  \n",
       "std         74.476321      22.407345                    1.585756  \n",
       "min          0.000000       0.000000                    1.000000  \n",
       "25%          1.000000       0.000000                    3.000000  \n",
       "50%          1.000000       2.000000                    5.000000  \n",
       "75%          4.000000       2.000000                    5.000000  \n",
       "max       1907.000000    9000.000000                    5.000000  "
      ]
     },
     "execution_count": 17,
     "metadata": {},
     "output_type": "execute_result"
    }
   ],
   "source": [
    "san_francisco_df.describe()"
   ]
  },
  {
   "cell_type": "code",
   "execution_count": 18,
   "metadata": {},
   "outputs": [
    {
     "data": {
      "image/png": "[encoded data removed]",
      "text/plain": [
       "<Figure size 432x288 with 1 Axes>"
      ]
     },
     "metadata": {
      "needs_background": "light"
     },
     "output_type": "display_data"
    }
   ],
   "source": [
    "san_francisco_df['Permit Type'].mode()\n",
    "ax = san_francisco_df['Permit Type'].hist(bins=8, color='teal', alpha=0.8)\n",
    "ax.set(xlabel='Permit Type', ylabel='Count')\n",
    "plt.show()"
   ]
  },
  {
   "cell_type": "code",
   "execution_count": 19,
   "metadata": {},
   "outputs": [
    {
     "name": "stdout",
     "output_type": "stream",
     "text": [
      "0\n",
      "0\n",
      "0\n"
     ]
    }
   ],
   "source": [
    "#filling the blank spaces of the columns with 'real' numbers (not numbers that represent a category) with the median value\n",
    "missing_numbers = ['Number of Existing Stories', 'Revised Cost', 'Existing Units']\n",
    "for i in range(0, len(missing_numbers)):\n",
    "    san_francisco_df[missing_numbers[i]].fillna(san_francisco_df[missing_numbers[i]].median(),inplace=True)\n",
    "    print(san_francisco_df[missing_numbers[i]].isnull().sum())"
   ]
  },
  {
   "cell_type": "code",
   "execution_count": 20,
   "metadata": {},
   "outputs": [
    {
     "name": "stdout",
     "output_type": "stream",
     "text": [
      "0\n",
      "0\n"
     ]
    }
   ],
   "source": [
    "#filling the blank spaces of the columns with the most frequent value\n",
    "missing_string = ['Existing Use', 'Neighborhoods - Analysis Boundaries']\n",
    "for i in range(0, len(missing_string)):\n",
    "    mode = str(san_francisco_df[missing_string[i]].mode())\n",
    "    san_francisco_df[missing_string[i]].fillna(mode,inplace=True)\n",
    "    print(san_francisco_df[missing_string[i]].isnull().sum())"
   ]
  },
  {
   "cell_type": "code",
   "execution_count": null,
   "metadata": {},
   "outputs": [],
   "source": [
    "#one-hot-encoding where necessary\n"
   ]
  },
  {
   "cell_type": "code",
   "execution_count": null,
   "metadata": {},
   "outputs": [],
   "source": []
  },
  {
   "cell_type": "code",
   "execution_count": null,
   "metadata": {},
   "outputs": [],
   "source": []
  }
 ],
 "metadata": {
  "kernelspec": {
   "display_name": "Python 3",
   "language": "python",
   "name": "python3"
  },
  "language_info": {
   "codemirror_mode": {
    "name": "ipython",
    "version": 3
   },
   "file_extension": ".py",
   "mimetype": "text/x-python",
   "name": "python",
   "nbconvert_exporter": "python",
   "pygments_lexer": "ipython3",
   "version": "3.6.4"
  }
 },
 "nbformat": 4,
 "nbformat_minor": 2
}
