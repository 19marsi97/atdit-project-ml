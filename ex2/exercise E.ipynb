{
 "cells": [
  {
   "cell_type": "markdown",
   "metadata": {},
   "source": [
    "# E Neural Networks XOR\n",
    "_5 points_\n",
    "We described a neural network that represents an XOR gate in class. \n",
    "\n",
    "- Write down a function, that consists of all modular parts of that network. Use the functions of AND, OR and NOT and stitch it together. \n",
    "- Use explicit weights, for example the ones we used in class."
   ]
  },
  {
   "cell_type": "markdown",
   "metadata": {},
   "source": [
    "# Solution\n",
    "\n",
    "An XOR gate can be expressed by the following combination of AND, OR and NOT gates: <br>\n",
    "<b> XOR := (OR) AND (NOT(AND))</b><br><br>\n",
    "One can define the following equations for the gates:<br>\n",
    "<b> OR gate: </b> θ1x1 + θ2x2 + b<br>\n",
    "<b> AND gate: </b> θ1x1 + θ2x2 + b<br>\n",
    "<b> NOT gate: </b> θx + b<br><br>\n",
    "If you combine the equations based on the constellation for XOR you will end up with the following function:<br>\n",
    "<b>(θ1x1 + θ2x2 + b1) \\* θ3 + (θ4 \\* (θ5x1 + θ6x2 + b2) + b3) \\* θ7 + b4</b><br><br>\n",
    "This function can be filled with an infinite number of figures. We provide one example for the weights:<br>\n",
    "θ1 = 1; θ2 = 1; b1 = 0<br>\n",
    "θ3 = 0.5<br>\n",
    "θ4 = -1; b3 = 1<br>\n",
    "θ5 = 0.5; θ6 = 0.5; b2 = -0.6<br>\n",
    "θ7 = 0.5; b4 = -0.6<br><br>\n",
    "This would lead to the following equation:<br>\n",
    "(1 \\* x1 + 1 \\* x2 + 0) \\* 0.5 + (-1 \\* (0.5 \\* x1 + 0.5 \\* x2 + (-0.6)) + 1) \\* 0.5 + (-0.6)<br>\n",
    "Simplify:<br>\n",
    "(x1 + x2) \\* 0.5 + (-(0.5x1 + 0.5x2 - 0.6)) \\* 0.5 - 0.6<br><br>\n",
    "\n",
    "\n",
    "<b>Important!</b>\n",
    "Remember, that the first part is the OR-Function, which can only have the outcome 0 or 1 and the second part is the NOT(AND) part with the same regualtions, this function will call all four combinations of x1 and x2 for the XOR gate (output 0, 1, 1 0)."
   ]
  },
  {
   "cell_type": "code",
   "execution_count": null,
   "metadata": {},
   "outputs": [],
   "source": []
  }
 ],
 "metadata": {
  "kernelspec": {
   "display_name": "Python 3",
   "language": "python",
   "name": "python3"
  },
  "language_info": {
   "codemirror_mode": {
    "name": "ipython",
    "version": 3
   },
   "file_extension": ".py",
   "mimetype": "text/x-python",
   "name": "python",
   "nbconvert_exporter": "python",
   "pygments_lexer": "ipython3",
   "version": "3.6.4"
  }
 },
 "nbformat": 4,
 "nbformat_minor": 2
}
