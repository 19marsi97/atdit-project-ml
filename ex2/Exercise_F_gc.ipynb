{
 "cells": [
  {
   "cell_type": "code",
   "execution_count": 1,
   "metadata": {
    "collapsed": false
   },
   "outputs": [
    {
     "name": "stderr",
     "output_type": "stream",
     "text": [
      "Using TensorFlow backend.\n"
     ]
    }
   ],
   "source": [
    "import keras\n",
    "from keras.datasets import cifar10\n",
    "from keras.models import Sequential\n",
    "from keras.layers import Dense, Flatten\n",
    "from keras.layers import Conv2D, MaxPooling2D\n",
    "from keras import backend as K\n",
    "from keras.utils import to_categorical"
   ]
  },
  {
   "cell_type": "code",
   "execution_count": 2,
   "metadata": {
    "collapsed": true
   },
   "outputs": [],
   "source": [
    "# change batch_size and epochs for fine tuning\n",
    "# image_classes MUST remain at 10!!!\n",
    "\n",
    "batch_size = 128\n",
    "image_classes = 10\n",
    "epochs = 30"
   ]
  },
  {
   "cell_type": "code",
   "execution_count": 3,
   "metadata": {
    "collapsed": true
   },
   "outputs": [],
   "source": [
    "# split data\n",
    "(x_train, y_train), (x_test, y_test) = cifar10.load_data()\n",
    "\n",
    "# test: to categorical\n",
    "y_train = to_categorical(y_train, image_classes)\n",
    "y_test = to_categorical(y_test, image_classes)\n",
    "\n",
    "# prints for testing\n",
    "# print(x_train.shape)\n",
    "# print(x_train[0].shape)\n",
    "# print(x_train.shape[0])\n",
    "# print(y_test.shape)"
   ]
  },
  {
   "cell_type": "code",
   "execution_count": 4,
   "metadata": {
    "collapsed": true
   },
   "outputs": [],
   "source": [
    "# create the model\n",
    "model = Sequential()\n",
    "model.add(Conv2D(64, kernel_size=(3, 3), activation=\"sigmoid\", input_shape=(32, 32, 3)))\n",
    "model.add(MaxPooling2D(pool_size=(2, 2)))\n",
    "model.add(Flatten())\n",
    "model.add(Dense(image_classes, activation=\"softmax\"))\n",
    "\n",
    "model.compile(loss=\"categorical_crossentropy\", optimizer=\"adam\", metrics=[\"accuracy\"])"
   ]
  },
  {
   "cell_type": "code",
   "execution_count": 5,
   "metadata": {
    "collapsed": false
   },
   "outputs": [
    {
     "name": "stdout",
     "output_type": "stream",
     "text": [
      "_________________________________________________________________\n",
      "Layer (type)                 Output Shape              Param #   \n",
      "=================================================================\n",
      "conv2d_1 (Conv2D)            (None, 30, 30, 64)        1792      \n",
      "_________________________________________________________________\n",
      "max_pooling2d_1 (MaxPooling2 (None, 15, 15, 64)        0         \n",
      "_________________________________________________________________\n",
      "flatten_1 (Flatten)          (None, 14400)             0         \n",
      "_________________________________________________________________\n",
      "dense_1 (Dense)              (None, 10)                144010    \n",
      "=================================================================\n",
      "Total params: 145,802\n",
      "Trainable params: 145,802\n",
      "Non-trainable params: 0\n",
      "_________________________________________________________________\n"
     ]
    }
   ],
   "source": [
    "# print a summary of the model\n",
    "model.summary()"
   ]
  },
  {
   "cell_type": "code",
   "execution_count": 6,
   "metadata": {
    "collapsed": false
   },
   "outputs": [
    {
     "name": "stdout",
     "output_type": "stream",
     "text": [
      "Train on 50000 samples, validate on 10000 samples\n",
      "Epoch 1/30\n",
      "50000/50000 [==============================] - 39s 771us/step - loss: 1.6213 - acc: 0.4593 - val_loss: 1.3966 - val_acc: 0.5176\n",
      "Epoch 2/30\n",
      "50000/50000 [==============================] - 39s 770us/step - loss: 1.1879 - acc: 0.5862 - val_loss: 1.2857 - val_acc: 0.5523\n",
      "Epoch 3/30\n",
      "50000/50000 [==============================] - 39s 778us/step - loss: 1.0607 - acc: 0.6290 - val_loss: 1.2269 - val_acc: 0.5790\n",
      "Epoch 4/30\n",
      "50000/50000 [==============================] - 38s 769us/step - loss: 0.9787 - acc: 0.6575 - val_loss: 1.2458 - val_acc: 0.5702\n",
      "Epoch 5/30\n",
      "50000/50000 [==============================] - 39s 772us/step - loss: 0.9048 - acc: 0.6837 - val_loss: 1.1492 - val_acc: 0.6071\n",
      "Epoch 6/30\n",
      "50000/50000 [==============================] - 31s 613us/step - loss: 0.8594 - acc: 0.6966 - val_loss: 1.2307 - val_acc: 0.5883\n",
      "Epoch 7/30\n",
      "50000/50000 [==============================] - 26s 514us/step - loss: 0.7998 - acc: 0.7204 - val_loss: 1.2953 - val_acc: 0.5787\n",
      "Epoch 8/30\n",
      "50000/50000 [==============================] - 26s 518us/step - loss: 0.7485 - acc: 0.7368 - val_loss: 1.2250 - val_acc: 0.5971\n",
      "Epoch 9/30\n",
      "50000/50000 [==============================] - 26s 517us/step - loss: 0.7023 - acc: 0.7545 - val_loss: 1.3203 - val_acc: 0.5796\n",
      "Epoch 10/30\n",
      "50000/50000 [==============================] - 26s 515us/step - loss: 0.6806 - acc: 0.7614 - val_loss: 1.2602 - val_acc: 0.6049\n",
      "Epoch 11/30\n",
      "50000/50000 [==============================] - 26s 519us/step - loss: 0.6452 - acc: 0.7738 - val_loss: 1.2316 - val_acc: 0.6090\n",
      "Epoch 12/30\n",
      "50000/50000 [==============================] - 26s 519us/step - loss: 0.6116 - acc: 0.7880 - val_loss: 1.3868 - val_acc: 0.5869\n",
      "Epoch 13/30\n",
      "50000/50000 [==============================] - 26s 515us/step - loss: 0.5871 - acc: 0.7951 - val_loss: 1.2808 - val_acc: 0.6092\n",
      "Epoch 14/30\n",
      "50000/50000 [==============================] - 26s 517us/step - loss: 0.5565 - acc: 0.8072 - val_loss: 1.3487 - val_acc: 0.6001\n",
      "Epoch 15/30\n",
      "50000/50000 [==============================] - 26s 518us/step - loss: 0.5379 - acc: 0.8122 - val_loss: 1.3221 - val_acc: 0.6087\n",
      "Epoch 16/30\n",
      "50000/50000 [==============================] - 26s 516us/step - loss: 0.5123 - acc: 0.8216 - val_loss: 1.3647 - val_acc: 0.6059\n",
      "Epoch 17/30\n",
      "50000/50000 [==============================] - 26s 516us/step - loss: 0.4906 - acc: 0.8289 - val_loss: 1.4098 - val_acc: 0.5909\n",
      "Epoch 18/30\n",
      "50000/50000 [==============================] - 26s 519us/step - loss: 0.4806 - acc: 0.8312 - val_loss: 1.4254 - val_acc: 0.5902\n",
      "Epoch 19/30\n",
      "50000/50000 [==============================] - 26s 516us/step - loss: 0.4486 - acc: 0.8442 - val_loss: 1.4631 - val_acc: 0.5989\n",
      "Epoch 20/30\n",
      "50000/50000 [==============================] - 26s 516us/step - loss: 0.4312 - acc: 0.8515 - val_loss: 1.4501 - val_acc: 0.5900\n",
      "Epoch 21/30\n",
      "50000/50000 [==============================] - 26s 516us/step - loss: 0.4213 - acc: 0.8543 - val_loss: 1.5183 - val_acc: 0.5796\n",
      "Epoch 22/30\n",
      "50000/50000 [==============================] - 26s 517us/step - loss: 0.4160 - acc: 0.8545 - val_loss: 1.5348 - val_acc: 0.5924\n",
      "Epoch 23/30\n",
      "50000/50000 [==============================] - 26s 513us/step - loss: 0.4069 - acc: 0.8590 - val_loss: 1.5849 - val_acc: 0.5757\n",
      "Epoch 24/30\n",
      "50000/50000 [==============================] - 25s 510us/step - loss: 0.3879 - acc: 0.8641 - val_loss: 1.5592 - val_acc: 0.5906\n",
      "Epoch 25/30\n",
      "50000/50000 [==============================] - 26s 510us/step - loss: 0.3613 - acc: 0.8748 - val_loss: 1.6326 - val_acc: 0.5726\n",
      "Epoch 26/30\n",
      "50000/50000 [==============================] - 26s 512us/step - loss: 0.3585 - acc: 0.8771 - val_loss: 1.6516 - val_acc: 0.5793\n",
      "Epoch 27/30\n",
      "50000/50000 [==============================] - 26s 511us/step - loss: 0.3513 - acc: 0.8793 - val_loss: 1.6240 - val_acc: 0.5874\n",
      "Epoch 28/30\n",
      "50000/50000 [==============================] - 25s 509us/step - loss: 0.3246 - acc: 0.8904 - val_loss: 1.6864 - val_acc: 0.5747\n",
      "Epoch 29/30\n",
      "50000/50000 [==============================] - 26s 511us/step - loss: 0.3135 - acc: 0.8929 - val_loss: 1.6884 - val_acc: 0.5835\n",
      "Epoch 30/30\n",
      "50000/50000 [==============================] - 25s 508us/step - loss: 0.3117 - acc: 0.8940 - val_loss: 1.7121 - val_acc: 0.5871\n"
     ]
    }
   ],
   "source": [
    "train_size = 50000\n",
    "test_size = 10000\n",
    "if (y_test.shape == (10000, 10)):\n",
    "    model.fit(x_train[:train_size], y_train[:train_size],\n",
    "          batch_size=batch_size,\n",
    "          epochs=epochs,\n",
    "          shuffle=True,\n",
    "          validation_data=(x_test[:test_size], y_test[:test_size]))\n",
    "else:\n",
    "    raise AttributeError(\"y_test.shape must be (10000, 10) but is {}\".format(y_test.shape))"
   ]
  },
  {
   "cell_type": "code",
   "execution_count": 7,
   "metadata": {
    "collapsed": false
   },
   "outputs": [
    {
     "name": "stdout",
     "output_type": "stream",
     "text": [
      "Test loss: 1.7121458082199097\n",
      "Test accuracy: 0.5871\n"
     ]
    }
   ],
   "source": [
    "score = model.evaluate(x_test, y_test, verbose=0)\n",
    "print('Test loss:', score[0])\n",
    "print('Test accuracy:', score[1])"
   ]
  },
  {
   "cell_type": "code",
   "execution_count": null,
   "metadata": {
    "collapsed": true
   },
   "outputs": [],
   "source": []
  }
 ],
 "metadata": {
  "kernelspec": {
   "display_name": "Python 3",
   "language": "python",
   "name": "python3"
  },
  "language_info": {
   "codemirror_mode": {
    "name": "ipython",
    "version": 3
   },
   "file_extension": ".py",
   "mimetype": "text/x-python",
   "name": "python",
   "nbconvert_exporter": "python",
   "pygments_lexer": "ipython3",
   "version": "3.5.1"
  }
 },
 "nbformat": 4,
 "nbformat_minor": 0
}
