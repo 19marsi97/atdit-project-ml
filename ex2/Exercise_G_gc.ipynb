{
 "cells": [
  {
   "cell_type": "code",
   "execution_count": 7,
   "metadata": {
    "collapsed": false
   },
   "outputs": [],
   "source": [
    "import keras\n",
    "from keras.datasets import cifar10\n",
    "from keras.models import Sequential\n",
    "from keras.layers import Dense, Flatten, BatchNormalization\n",
    "from keras.layers import Conv2D, MaxPooling2D, Dropout, Activation\n",
    "from keras import backend as K\n",
    "from keras.utils import to_categorical\n",
    "from keras import regularizers"
   ]
  },
  {
   "cell_type": "code",
   "execution_count": 15,
   "metadata": {
    "collapsed": true
   },
   "outputs": [],
   "source": [
    "# change batch_size and epochs for fine tuning\n",
    "# image_classes MUST remain at 10!!!\n",
    "\n",
    "batch_size = 64\n",
    "image_classes = 10\n",
    "epochs = 10"
   ]
  },
  {
   "cell_type": "code",
   "execution_count": 9,
   "metadata": {
    "collapsed": false
   },
   "outputs": [],
   "source": [
    "# split data\n",
    "(x_train, y_train), (x_test, y_test) = cifar10.load_data()\n",
    "y_train = to_categorical(y_train, image_classes)\n",
    "y_test = to_categorical(y_test, image_classes)"
   ]
  },
  {
   "cell_type": "code",
   "execution_count": 16,
   "metadata": {
    "collapsed": false
   },
   "outputs": [],
   "source": [
    "# create the model\n",
    "model = Sequential()\n",
    "decay = 1e-4\n",
    "model.add(Conv2D(64, kernel_size=(3, 3), activation=\"sigmoid\", input_shape=(32, 32, 3), kernel_regularizer=regularizers.l2(decay)))\n",
    "model.add(BatchNormalization())\n",
    "model.add(MaxPooling2D(pool_size=(2, 2)))\n",
    "#model.add(BatchNormalization())\n",
    "model.add(Dropout(0.2))\n",
    "model.add(Flatten())\n",
    "model.add(Dense(image_classes, activation=\"softmax\"))\n",
    "\n",
    "model.compile(loss=\"categorical_crossentropy\", optimizer=\"adam\", metrics=[\"accuracy\"])"
   ]
  },
  {
   "cell_type": "code",
   "execution_count": 17,
   "metadata": {
    "collapsed": false
   },
   "outputs": [
    {
     "name": "stdout",
     "output_type": "stream",
     "text": [
      "_________________________________________________________________\n",
      "Layer (type)                 Output Shape              Param #   \n",
      "=================================================================\n",
      "conv2d_7 (Conv2D)            (None, 30, 30, 64)        1792      \n",
      "_________________________________________________________________\n",
      "batch_normalization_8 (Batch (None, 30, 30, 64)        256       \n",
      "_________________________________________________________________\n",
      "max_pooling2d_5 (MaxPooling2 (None, 15, 15, 64)        0         \n",
      "_________________________________________________________________\n",
      "dropout_5 (Dropout)          (None, 15, 15, 64)        0         \n",
      "_________________________________________________________________\n",
      "flatten_3 (Flatten)          (None, 14400)             0         \n",
      "_________________________________________________________________\n",
      "dense_3 (Dense)              (None, 10)                144010    \n",
      "=================================================================\n",
      "Total params: 146,058\n",
      "Trainable params: 145,930\n",
      "Non-trainable params: 128\n",
      "_________________________________________________________________\n"
     ]
    }
   ],
   "source": [
    "# compilation\n",
    "model.compile(loss=\"categorical_crossentropy\", optimizer=\"adam\", metrics=[\"accuracy\"])\n",
    "model.summary()"
   ]
  },
  {
   "cell_type": "code",
   "execution_count": 18,
   "metadata": {
    "collapsed": false
   },
   "outputs": [
    {
     "name": "stdout",
     "output_type": "stream",
     "text": [
      "Train on 50000 samples, validate on 10000 samples\n",
      "Epoch 1/10\n",
      "50000/50000 [==============================] - 85s 2ms/step - loss: 1.7320 - acc: 0.4625 - val_loss: 1.6629 - val_acc: 0.4751\n",
      "Epoch 2/10\n",
      "50000/50000 [==============================] - 84s 2ms/step - loss: 1.3825 - acc: 0.5478 - val_loss: 1.5286 - val_acc: 0.4956\n",
      "Epoch 3/10\n",
      "50000/50000 [==============================] - 84s 2ms/step - loss: 1.2728 - acc: 0.5741 - val_loss: 1.3720 - val_acc: 0.5429\n",
      "Epoch 4/10\n",
      "50000/50000 [==============================] - 84s 2ms/step - loss: 1.1977 - acc: 0.5943 - val_loss: 1.4242 - val_acc: 0.5360\n",
      "Epoch 5/10\n",
      "50000/50000 [==============================] - 83s 2ms/step - loss: 1.1563 - acc: 0.6063 - val_loss: 1.3320 - val_acc: 0.5549\n",
      "Epoch 6/10\n",
      "50000/50000 [==============================] - 85s 2ms/step - loss: 1.1150 - acc: 0.6169 - val_loss: 1.3790 - val_acc: 0.5364\n",
      "Epoch 7/10\n",
      "50000/50000 [==============================] - 84s 2ms/step - loss: 1.0802 - acc: 0.6290 - val_loss: 1.2569 - val_acc: 0.5812\n",
      "Epoch 8/10\n",
      "50000/50000 [==============================] - 85s 2ms/step - loss: 1.0597 - acc: 0.6378 - val_loss: 1.3473 - val_acc: 0.5527\n",
      "Epoch 9/10\n",
      "50000/50000 [==============================] - 84s 2ms/step - loss: 1.0317 - acc: 0.6451 - val_loss: 1.3085 - val_acc: 0.5725\n",
      "Epoch 10/10\n",
      "50000/50000 [==============================] - 84s 2ms/step - loss: 1.0151 - acc: 0.6474 - val_loss: 1.2537 - val_acc: 0.5784\n"
     ]
    }
   ],
   "source": [
    "train_size = 50000\n",
    "test_size = 10000\n",
    "if (y_test.shape == (10000, 10)):\n",
    "    model.fit(x_train[:train_size], y_train[:train_size],\n",
    "          batch_size=batch_size,\n",
    "          epochs=epochs,\n",
    "          shuffle=True,\n",
    "          validation_data=(x_test[:test_size], y_test[:test_size]))\n",
    "else:\n",
    "    raise AttributeError(\"y_test.shape must be (10000, 10) but is {}\".format(y_test.shape))"
   ]
  },
  {
   "cell_type": "code",
   "execution_count": 19,
   "metadata": {
    "collapsed": false
   },
   "outputs": [
    {
     "name": "stdout",
     "output_type": "stream",
     "text": [
      "Test loss: 1.253705079269409\n",
      "Test accuracy: 0.5784\n"
     ]
    }
   ],
   "source": [
    "#score = model.evaluate(x_test[test_size:], y_test[test_size:], verbose=0)\n",
    "score = model.evaluate(x_test, y_test, verbose=0)\n",
    "print(\"Test loss:\", score[0])\n",
    "print(\"Test accuracy:\", score[1])"
   ]
  },
  {
   "cell_type": "code",
   "execution_count": null,
   "metadata": {
    "collapsed": true
   },
   "outputs": [],
   "source": []
  }
 ],
 "metadata": {
  "kernelspec": {
   "display_name": "Python 3",
   "language": "python",
   "name": "python3"
  },
  "language_info": {
   "codemirror_mode": {
    "name": "ipython",
    "version": 3
   },
   "file_extension": ".py",
   "mimetype": "text/x-python",
   "name": "python",
   "nbconvert_exporter": "python",
   "pygments_lexer": "ipython3",
   "version": "3.5.1"
  }
 },
 "nbformat": 4,
 "nbformat_minor": 0
}
