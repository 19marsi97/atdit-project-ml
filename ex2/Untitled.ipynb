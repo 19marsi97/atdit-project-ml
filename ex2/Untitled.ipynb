{
 "cells": [
  {
   "cell_type": "markdown",
   "metadata": {},
   "source": [
    "# H Feedback\n",
    "_3 points_\n",
    "\n",
    "* How much time did you work on this assignment and how often did you meet?\n",
    "* What was your favourite excercise? Why?\n",
    "* What excercise did you like least? Why?\n"
   ]
  },
  {
   "cell_type": "markdown",
   "metadata": {},
   "source": [
    "# Answer\n",
    "\n",
    "How much time? - about 50 hours each; we met once <br><br>\n",
    "Favorite Exercise - F & G -> One could play around a lot with the parameters and the data was easier to understand (the problems here were only to get it running on the GCP, as soon as it worked it was good!) <br>D was also good to reflext the efforts and problems we faced with the San Francisco dataset <br><br>\n",
    "Least favorite - A & B & C -> The dataset was messy and very hard to understand; we think that we still don't know what it shoud actually do. We spent the most time on this exercises"
   ]
  },
  {
   "cell_type": "code",
   "execution_count": null,
   "metadata": {},
   "outputs": [],
   "source": []
  }
 ],
 "metadata": {
  "kernelspec": {
   "display_name": "Python 3",
   "language": "python",
   "name": "python3"
  },
  "language_info": {
   "codemirror_mode": {
    "name": "ipython",
    "version": 3
   },
   "file_extension": ".py",
   "mimetype": "text/x-python",
   "name": "python",
   "nbconvert_exporter": "python",
   "pygments_lexer": "ipython3",
   "version": "3.6.4"
  }
 },
 "nbformat": 4,
 "nbformat_minor": 2
}
