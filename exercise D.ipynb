{
 "cells": [
  {
   "cell_type": "markdown",
   "metadata": {},
   "source": [
    "# D MNIST understanding\n",
    "_5 points_\n",
    "\n",
    "Some numbers are more difficult to predict with KNN and to cluster with K-means. \n",
    "Show why. Start with examples, and get more general\n"
   ]
  },
  {
   "cell_type": "code",
   "execution_count": 29,
   "metadata": {},
   "outputs": [],
   "source": [
    "import tensorflow as tf\n",
    "from sklearn.neighbors import KNeighborsClassifier\n",
    "from sklearn.cluster import KMeans\n",
    "import matplotlib.pyplot as plt\n",
    "import numpy as np\n",
    "from sklearn.metrics import f1_score, accuracy_score"
   ]
  },
  {
   "cell_type": "code",
   "execution_count": 3,
   "metadata": {},
   "outputs": [],
   "source": [
    "(x_train, y_train), (x_test, y_test) = tf.keras.datasets.mnist.load_data()"
   ]
  },
  {
   "cell_type": "code",
   "execution_count": 4,
   "metadata": {},
   "outputs": [],
   "source": [
    "labels = np.where(y_train == 1)"
   ]
  },
  {
   "cell_type": "code",
   "execution_count": 12,
   "metadata": {},
   "outputs": [
    {
     "data": {
      "text/plain": [
       "KNeighborsClassifier(algorithm='auto', leaf_size=30, metric='minkowski',\n",
       "           metric_params=None, n_jobs=-1, n_neighbors=3, p=2,\n",
       "           weights='uniform')"
      ]
     },
     "execution_count": 12,
     "metadata": {},
     "output_type": "execute_result"
    }
   ],
   "source": [
    "knn = KNeighborsClassifier(n_neighbors=3, n_jobs=-1)\n",
    "knn.fit(x_train.reshape(60000, 784), y_train)"
   ]
  },
  {
   "cell_type": "code",
   "execution_count": 5,
   "metadata": {},
   "outputs": [
    {
     "data": {
      "text/plain": [
       "(array([    3,     6,     8, ..., 59979, 59984, 59994], dtype=int64),)"
      ]
     },
     "execution_count": 5,
     "metadata": {},
     "output_type": "execute_result"
    }
   ],
   "source": [
    "labels[:10]"
   ]
  },
  {
   "cell_type": "code",
   "execution_count": 6,
   "metadata": {},
   "outputs": [
    {
     "data": {
      "image/png": "[encoded data removed]",
      "text/plain": [
       "<Figure size 432x288 with 1 Axes>"
      ]
     },
     "metadata": {},
     "output_type": "display_data"
    }
   ],
   "source": [
    "# pick a good picture of a \"one\"\n",
    "_ = plt.imshow(x_train[8])"
   ]
  },
  {
   "cell_type": "code",
   "execution_count": 7,
   "metadata": {
    "scrolled": true
   },
   "outputs": [],
   "source": [
    "arr = x_train[8]\n",
    "arr = arr.T\n",
    "blueprint = arr[12:17]\n",
    "zeros = np.zeros(28)\n",
    "full_zeros = np.zeros(28)\n",
    "for i in range(22):\n",
    "    full_zeros = np.vstack((full_zeros, zeros))"
   ]
  },
  {
   "cell_type": "code",
   "execution_count": 10,
   "metadata": {},
   "outputs": [
    {
     "data": {
      "image/png": "[encoded data removed]",
      "text/plain": [
       "<Figure size 432x288 with 1 Axes>"
      ]
     },
     "metadata": {},
     "output_type": "display_data"
    }
   ],
   "source": [
    "# shifted the \"one\" to the left edge\n",
    "ex_1 = np.vstack((blueprint, full_zeros)).T\n",
    "_ = plt.imshow(ex_1)"
   ]
  },
  {
   "cell_type": "code",
   "execution_count": 11,
   "metadata": {},
   "outputs": [
    {
     "data": {
      "image/png": "[encoded data removed]",
      "text/plain": [
       "<Figure size 432x288 with 1 Axes>"
      ]
     },
     "metadata": {},
     "output_type": "display_data"
    }
   ],
   "source": [
    "#shifted the one to the right edge\n",
    "ex_2 = np.vstack((full_zeros, blueprint)).T\n",
    "_ = plt.imshow(ex_2)"
   ]
  },
  {
   "cell_type": "code",
   "execution_count": 59,
   "metadata": {},
   "outputs": [
    {
     "name": "stdout",
     "output_type": "stream",
     "text": [
      "Predict left 'one': [1]\n",
      "Predict right 'one': [1]\n",
      "If both examples return a '1' they are correct!\n"
     ]
    }
   ],
   "source": [
    "print(\"Predict left 'one': {}\".format(knn.predict([ex_1.reshape([784])])))\n",
    "print(\"Predict right 'one': {}\".format(knn.predict([ex_2.reshape([784])])))\n",
    "print(\"If both examples return a '1' they are correct!\")"
   ]
  },
  {
   "cell_type": "code",
   "execution_count": 13,
   "metadata": {},
   "outputs": [],
   "source": [
    "predictions = knn.predict(x_test.reshape(10000, 784))"
   ]
  },
  {
   "cell_type": "code",
   "execution_count": 15,
   "metadata": {
    "scrolled": true
   },
   "outputs": [
    {
     "name": "stdout",
     "output_type": "stream",
     "text": [
      "0.9705\n"
     ]
    }
   ],
   "source": [
    "# f1 score of the knn model\n",
    "print(f1_score(y_test, predictions, average=\"micro\"))"
   ]
  },
  {
   "cell_type": "code",
   "execution_count": 16,
   "metadata": {},
   "outputs": [],
   "source": [
    "# error contains all indices where the predictions do not match the real labels\n",
    "error = np.where(predictions != y_test)[0]"
   ]
  },
  {
   "cell_type": "code",
   "execution_count": 60,
   "metadata": {
    "scrolled": true
   },
   "outputs": [
    {
     "name": "stdout",
     "output_type": "stream",
     "text": [
      "Prediction: [9]\n",
      "Real value: 4\n",
      "Prediction: [9]\n",
      "Real value: 4\n",
      "Prediction: [5]\n",
      "Real value: 3\n",
      "Prediction: [8]\n",
      "Real value: 9\n",
      "Prediction: [6]\n",
      "Real value: 4\n",
      "Knn Labels not recognized: [ 6  2 36 34 32 33 14 37 60 41]\n",
      "Knn Labels wrongly classified: [34 50 18 37 24 30 16 36 10 40]\n"
     ]
    }
   ],
   "source": [
    "# looking at example images that were not identified correctly\n",
    "for value in error[:5]:\n",
    "    x_val = value\n",
    "    print(\"Prediction: {}\".format(knn.predict([x_test[x_val].reshape(784)])))\n",
    "    print(\"Real value: {}\".format(y_test[x_val]))\n",
    "    #plt.imshow(x_test[x_val])\n",
    "    #plt.show()\n",
    "print(\"Knn Labels not recognized: {}\".format(np.bincount(y_test[error])))\n",
    "print(\"Knn Labels wrongly classified: {}\".format(np.bincount(predictions[error])))"
   ]
  },
  {
   "cell_type": "code",
   "execution_count": 37,
   "metadata": {},
   "outputs": [],
   "source": [
    "kmeans = KMeans(n_clusters=10, max_iter=100, n_jobs=-1).fit(x_train.reshape(60000, 784), y_train)"
   ]
  },
  {
   "cell_type": "code",
   "execution_count": 38,
   "metadata": {},
   "outputs": [],
   "source": [
    "kmeans_predictions = kmeans.predict(x_test.reshape(10000, 784))"
   ]
  },
  {
   "cell_type": "code",
   "execution_count": 41,
   "metadata": {},
   "outputs": [
    {
     "name": "stdout",
     "output_type": "stream",
     "text": [
      "Kmeans labels not recognized: [ 932 1134 1002  937  672  787  934 1027  385 1005]\n",
      "Kmeans labels wrongly classified: [1266  799 1520  923 1119  742  524  496  501  925]\n"
     ]
    }
   ],
   "source": [
    "kmeans_error = np.where(kmeans_predictions != y_test)[0]\n",
    "print(\"Kmeans labels not recognized: {}\".format(np.bincount(y_test[kmeans_error])))\n",
    "print(\"Kmeans labels wrongly classified: {}\".format(np.bincount(kmeans_predictions[kmeans_error])))"
   ]
  },
  {
   "cell_type": "code",
   "execution_count": 42,
   "metadata": {},
   "outputs": [
    {
     "name": "stdout",
     "output_type": "stream",
     "text": [
      "0.1185\n"
     ]
    }
   ],
   "source": [
    "print(f1_score(y_test, kmeans_predictions, average=\"micro\"))"
   ]
  },
  {
   "cell_type": "markdown",
   "metadata": {},
   "source": [
    "## Answer\n",
    "\n",
    "One first idea was, that the algorithm is not able to perform a good prediction if the number is not centered in the image. The test for the two \"ones\" shows the opposite, therefore we can assume that the algorithm is able to predict the value independently of its position (we know that two examples are statistically  not enough, but we wanted to test out this extreme becuase the \"one\" is a very slim number).\n",
    "\n",
    "Furthermore by evaluating the accuracies for the KNN model with k=3, one can see that different classes of numbers get predicted wrongly more often. For example, the label that was not recognized most was the 8, followed by the 9. This is because the images tend to look very alike and therefore errors occur!<br>\n",
    "In addition, 9s and 4s are also switched sometimes, 2s and 6s look like 0s and 1s and 7s can be mixed up too. This is due to the accuracy of the image, sometimes not even a human can surely tell, which number it is (see picture below).<br>\n",
    "For kmeans, many images could not be labeled correctly. This is also the case because this model is not effective for the dataset (it has a f1-score of 11% compared to 97% for the KNN model).<br>\n",
    "As seen in the exercise before, some numbers have difficulties here as well, the 9 for example has no own cluster in any kmeans model. It is also frequently mispredicted (1005 values with 9s were not recognized, 925 other numbers were falsely labeled as 9s). Also the zeros, ones and twos are often mislabeled in this run, due to their similarities to other numbers.\n",
    "\n",
    "However, it is not surprising that both models make some mistakes.\n",
    "Can you surely classify the following images? :)\n",
    "\n"
   ]
  },
  {
   "cell_type": "code",
   "execution_count": 53,
   "metadata": {},
   "outputs": [
    {
     "name": "stdout",
     "output_type": "stream",
     "text": [
      "Real value: 6\n",
      "Predicted: [0]\n"
     ]
    },
    {
     "data": {
      "image/png": "[encoded data removed]",
      "text/plain": [
       "<Figure size 432x288 with 1 Axes>"
      ]
     },
     "metadata": {},
     "output_type": "display_data"
    },
    {
     "name": "stdout",
     "output_type": "stream",
     "text": [
      "Real value: 8\n",
      "Predicted: [1]\n"
     ]
    },
    {
     "data": {
      "image/png": "[encoded data removed]",
      "text/plain": [
       "<Figure size 432x288 with 1 Axes>"
      ]
     },
     "metadata": {},
     "output_type": "display_data"
    },
    {
     "name": "stdout",
     "output_type": "stream",
     "text": [
      "Real value: 8\n",
      "Predicted: [3]\n"
     ]
    },
    {
     "data": {
      "image/png": "[encoded data removed]",
      "text/plain": [
       "<Figure size 432x288 with 1 Axes>"
      ]
     },
     "metadata": {},
     "output_type": "display_data"
    },
    {
     "name": "stdout",
     "output_type": "stream",
     "text": [
      "Real value: 2\n",
      "Predicted: [7]\n"
     ]
    },
    {
     "data": {
      "image/png": "[encoded data removed]",
      "text/plain": [
       "<Figure size 432x288 with 1 Axes>"
      ]
     },
     "metadata": {},
     "output_type": "display_data"
    }
   ],
   "source": [
    "arr = [13, 17, 19, 20]\n",
    "for i in arr:\n",
    "    print(\"Real value: {}\".format(y_test[error[i]]))\n",
    "    print(\"Predicted: {}\".format(knn.predict([x_test[error[i]].reshape(784)])))\n",
    "    plt.imshow(x_test[error[i]])\n",
    "    plt.show()"
   ]
  },
  {
   "cell_type": "code",
   "execution_count": null,
   "metadata": {},
   "outputs": [],
   "source": []
  }
 ],
 "metadata": {
  "kernelspec": {
   "display_name": "Python 3",
   "language": "python",
   "name": "python3"
  },
  "language_info": {
   "codemirror_mode": {
    "name": "ipython",
    "version": 3
   },
   "file_extension": ".py",
   "mimetype": "text/x-python",
   "name": "python",
   "nbconvert_exporter": "python",
   "pygments_lexer": "ipython3",
   "version": "3.6.4"
  }
 },
 "nbformat": 4,
 "nbformat_minor": 2
}
